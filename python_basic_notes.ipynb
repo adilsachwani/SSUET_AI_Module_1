{
 "cells": [
  {
   "cell_type": "markdown",
   "metadata": {},
   "source": [
    "# Operations Limitations"
   ]
  },
  {
   "cell_type": "markdown",
   "metadata": {},
   "source": [
    "Python can’t sum a string and an integer."
   ]
  },
  {
   "cell_type": "code",
   "execution_count": 2,
   "metadata": {},
   "outputs": [
    {
     "ename": "TypeError",
     "evalue": "must be str, not int",
     "output_type": "error",
     "traceback": [
      "\u001b[1;31m---------------------------------------------------------------------------\u001b[0m",
      "\u001b[1;31mTypeError\u001b[0m                                 Traceback (most recent call last)",
      "\u001b[1;32m<ipython-input-2-76fff4d310cc>\u001b[0m in \u001b[0;36m<module>\u001b[1;34m()\u001b[0m\n\u001b[1;32m----> 1\u001b[1;33m \u001b[0ma\u001b[0m \u001b[1;33m=\u001b[0m \u001b[1;34m'b'\u001b[0m \u001b[1;33m+\u001b[0m \u001b[1;36m2\u001b[0m\u001b[1;33m\u001b[0m\u001b[0m\n\u001b[0m\u001b[0;32m      2\u001b[0m \u001b[0mprint\u001b[0m\u001b[1;33m(\u001b[0m\u001b[0ma\u001b[0m\u001b[1;33m)\u001b[0m\u001b[1;33m\u001b[0m\u001b[0m\n",
      "\u001b[1;31mTypeError\u001b[0m: must be str, not int"
     ]
    }
   ],
   "source": [
    "a = 'b' + 2\n",
    "print(a)"
   ]
  },
  {
   "cell_type": "markdown",
   "metadata": {},
   "source": [
    "Python can multiply a string and an integer."
   ]
  },
  {
   "cell_type": "code",
   "execution_count": 3,
   "metadata": {},
   "outputs": [
    {
     "name": "stdout",
     "output_type": "stream",
     "text": [
      "bbbbb\n"
     ]
    }
   ],
   "source": [
    "a = 'b' * 5\n",
    "print(a)"
   ]
  },
  {
   "cell_type": "markdown",
   "metadata": {},
   "source": [
    "# Variable name allowed\n",
    "1- A variable name can contain only lowercase letters, uppercase letters, numbers, and underscores.\n",
    "<br>2- You can't enclose it in quotation marks.\n",
    "<br>3- You can't have any spaces in it.\n",
    "<br>4- It can't be a number or begin with a number"
   ]
  },
  {
   "cell_type": "code",
   "execution_count": 4,
   "metadata": {},
   "outputs": [],
   "source": [
    "name = 'adil' #variable allowed to start with lowercase"
   ]
  },
  {
   "cell_type": "code",
   "execution_count": 5,
   "metadata": {},
   "outputs": [],
   "source": [
    "Name123 = 'adil' #variable allowed to start with uppercase"
   ]
  },
  {
   "cell_type": "code",
   "execution_count": 6,
   "metadata": {},
   "outputs": [],
   "source": [
    "_name = 'adil' #variable allowed to start with underscore"
   ]
  },
  {
   "cell_type": "code",
   "execution_count": 7,
   "metadata": {},
   "outputs": [
    {
     "ename": "SyntaxError",
     "evalue": "invalid syntax (<ipython-input-7-2032feaf1846>, line 1)",
     "output_type": "error",
     "traceback": [
      "\u001b[1;36m  File \u001b[1;32m\"<ipython-input-7-2032feaf1846>\"\u001b[1;36m, line \u001b[1;32m1\u001b[0m\n\u001b[1;33m    1adil = 'adil' #variable not allowed to start with a number\u001b[0m\n\u001b[1;37m        ^\u001b[0m\n\u001b[1;31mSyntaxError\u001b[0m\u001b[1;31m:\u001b[0m invalid syntax\n"
     ]
    }
   ],
   "source": [
    "1adil = 'adil' #variable not allowed to start with a number"
   ]
  },
  {
   "cell_type": "code",
   "execution_count": 8,
   "metadata": {},
   "outputs": [
    {
     "ename": "SyntaxError",
     "evalue": "can't assign to literal (<ipython-input-8-c9f29b5da6be>, line 1)",
     "output_type": "error",
     "traceback": [
      "\u001b[1;36m  File \u001b[1;32m\"<ipython-input-8-c9f29b5da6be>\"\u001b[1;36m, line \u001b[1;32m1\u001b[0m\n\u001b[1;33m    123 = 'adil' #variable not allowed to be a number\u001b[0m\n\u001b[1;37m                                                     ^\u001b[0m\n\u001b[1;31mSyntaxError\u001b[0m\u001b[1;31m:\u001b[0m can't assign to literal\n"
     ]
    }
   ],
   "source": [
    "123 = 'adil' #variable not allowed to be a number"
   ]
  },
  {
   "cell_type": "markdown",
   "metadata": {},
   "source": [
    "# Precedence of Operators\n",
    "1- {}\n",
    "<br>2- ****\n",
    "<br>3-  , /, //, %\n",
    "<br>4- + , -"
   ]
  },
  {
   "cell_type": "code",
   "execution_count": 9,
   "metadata": {},
   "outputs": [
    {
     "name": "stdout",
     "output_type": "stream",
     "text": [
      "35\n"
     ]
    }
   ],
   "source": [
    "a = 3 + 2 * 4 ** 2\n",
    "print(a)"
   ]
  },
  {
   "cell_type": "markdown",
   "metadata": {},
   "source": [
    "# Comments"
   ]
  },
  {
   "cell_type": "code",
   "execution_count": 10,
   "metadata": {},
   "outputs": [
    {
     "data": {
      "text/plain": [
       "'This is\\na multiline comment'"
      ]
     },
     "execution_count": 10,
     "metadata": {},
     "output_type": "execute_result"
    }
   ],
   "source": [
    "# The is one line comment\n",
    "'''This is\n",
    "a multiline comment'''\n",
    "\"\"\"This is\n",
    "a multiline comment\"\"\""
   ]
  },
  {
   "cell_type": "markdown",
   "metadata": {},
   "source": [
    "# Lists"
   ]
  },
  {
   "cell_type": "markdown",
   "metadata": {},
   "source": [
    "Initializing a simple list"
   ]
  },
  {
   "cell_type": "code",
   "execution_count": 11,
   "metadata": {},
   "outputs": [
    {
     "name": "stdout",
     "output_type": "stream",
     "text": [
      "['David Warner', 'Joe Root', 'Steven Smith', 'Virat Kholi', 'Kane Willamson']\n"
     ]
    }
   ],
   "source": [
    "cricketers = [\"David Warner\",\"Joe Root\",\"Steven Smith\",\"Virat Kholi\",\"Kane Willamson\"]\n",
    "print(cricketers)"
   ]
  },
  {
   "cell_type": "markdown",
   "metadata": {},
   "source": [
    "Appending a new element to the list"
   ]
  },
  {
   "cell_type": "code",
   "execution_count": 12,
   "metadata": {},
   "outputs": [
    {
     "name": "stdout",
     "output_type": "stream",
     "text": [
      "['David Warner', 'Joe Root', 'Steven Smith', 'Virat Kholi', 'Kane Willamson', 'Rashid Khan']\n"
     ]
    }
   ],
   "source": [
    "cricketers.append(\"Rashid Khan\")\n",
    "print(cricketers)"
   ]
  },
  {
   "cell_type": "markdown",
   "metadata": {},
   "source": [
    "Appending a number of elements to the list"
   ]
  },
  {
   "cell_type": "code",
   "execution_count": 13,
   "metadata": {},
   "outputs": [
    {
     "name": "stdout",
     "output_type": "stream",
     "text": [
      "['David Warner', 'Joe Root', 'Steven Smith', 'Virat Kholi', 'Kane Willamson', 'Rashid Khan', 'Mustafizur Rehman', 'Hashim Amla']\n"
     ]
    }
   ],
   "source": [
    "cricketers += [\"Mustafizur Rehman\",\"Hashim Amla\"]\n",
    "print(cricketers)"
   ]
  },
  {
   "cell_type": "markdown",
   "metadata": {},
   "source": [
    "Insert element in a particular position"
   ]
  },
  {
   "cell_type": "code",
   "execution_count": 14,
   "metadata": {},
   "outputs": [
    {
     "name": "stdout",
     "output_type": "stream",
     "text": [
      "['David Warner', 'Babar Azam', 'Steven Smith', 'Virat Kholi', 'Kane Willamson', 'Rashid Khan', 'Mustafizur Rehman', 'Hashim Amla']\n"
     ]
    }
   ],
   "source": [
    "cricketers[1] = \"Babar Azam\" #replaces element at index 1 and removes the previous element at index 1\n",
    "print(cricketers)"
   ]
  },
  {
   "cell_type": "code",
   "execution_count": 15,
   "metadata": {},
   "outputs": [
    {
     "name": "stdout",
     "output_type": "stream",
     "text": [
      "['David Warner', 'Joe Root', 'Babar Azam', 'Steven Smith', 'Virat Kholi', 'Kane Willamson', 'Rashid Khan', 'Mustafizur Rehman', 'Hashim Amla']\n"
     ]
    }
   ],
   "source": [
    "cricketers.insert(1,\"Joe Root\") #replaces element at index 1 and moves index of all the other element one step down\n",
    "print(cricketers)"
   ]
  },
  {
   "cell_type": "markdown",
   "metadata": {},
   "source": [
    "Slicing a list"
   ]
  },
  {
   "cell_type": "code",
   "execution_count": 16,
   "metadata": {},
   "outputs": [
    {
     "name": "stdout",
     "output_type": "stream",
     "text": [
      "['Babar Azam', 'Steven Smith', 'Virat Kholi', 'Kane Willamson']\n"
     ]
    }
   ],
   "source": [
    "main_cricketers = cricketers[2:6]\n",
    "print(main_cricketers)"
   ]
  },
  {
   "cell_type": "code",
   "execution_count": 17,
   "metadata": {},
   "outputs": [
    {
     "name": "stdout",
     "output_type": "stream",
     "text": [
      "['David Warner', 'Joe Root', 'Babar Azam', 'Steven Smith', 'Virat Kholi']\n"
     ]
    }
   ],
   "source": [
    "top_5 = cricketers[:5]\n",
    "print(top_5)"
   ]
  },
  {
   "cell_type": "code",
   "execution_count": 18,
   "metadata": {},
   "outputs": [
    {
     "name": "stdout",
     "output_type": "stream",
     "text": [
      "['Rashid Khan', 'Mustafizur Rehman', 'Hashim Amla']\n"
     ]
    }
   ],
   "source": [
    "bottom_3 = cricketers[6:9]\n",
    "print(bottom_3)"
   ]
  },
  {
   "cell_type": "markdown",
   "metadata": {},
   "source": [
    "Removing an element from the list"
   ]
  },
  {
   "cell_type": "code",
   "execution_count": 19,
   "metadata": {},
   "outputs": [
    {
     "name": "stdout",
     "output_type": "stream",
     "text": [
      "['David Warner', 'Babar Azam', 'Steven Smith', 'Virat Kholi', 'Kane Willamson', 'Rashid Khan', 'Mustafizur Rehman', 'Hashim Amla']\n"
     ]
    }
   ],
   "source": [
    "del cricketers[1]\n",
    "print(cricketers)"
   ]
  },
  {
   "cell_type": "code",
   "execution_count": 20,
   "metadata": {},
   "outputs": [
    {
     "name": "stdout",
     "output_type": "stream",
     "text": [
      "['David Warner', 'Babar Azam', 'Steven Smith', 'Virat Kholi', 'Kane Willamson', 'Rashid Khan', 'Hashim Amla']\n"
     ]
    }
   ],
   "source": [
    "cricketers.remove(\"Mustafizur Rehman\")\n",
    "print(cricketers)"
   ]
  },
  {
   "cell_type": "markdown",
   "metadata": {},
   "source": [
    "Poping an element from a list"
   ]
  },
  {
   "cell_type": "code",
   "execution_count": 21,
   "metadata": {},
   "outputs": [
    {
     "name": "stdout",
     "output_type": "stream",
     "text": [
      "['David Warner', 'Babar Azam', 'Steven Smith', 'Kane Willamson', 'Rashid Khan', 'Hashim Amla']\n",
      "Virat Kholi\n"
     ]
    }
   ],
   "source": [
    "top_player = cricketers.pop(3) #poping particular element\n",
    "print(cricketers)\n",
    "print(top_player)"
   ]
  },
  {
   "cell_type": "code",
   "execution_count": 22,
   "metadata": {},
   "outputs": [
    {
     "name": "stdout",
     "output_type": "stream",
     "text": [
      "['David Warner', 'Babar Azam', 'Steven Smith', 'Kane Willamson', 'Rashid Khan']\n",
      "Hashim Amla\n"
     ]
    }
   ],
   "source": [
    "top_player = cricketers.pop() #poping last element\n",
    "print(cricketers)\n",
    "print(top_player)"
   ]
  },
  {
   "cell_type": "markdown",
   "metadata": {},
   "source": [
    "# Tuples\n",
    "Tuple is like a list, but the elements are fixed. They can't be changed—unless you redefine the whole tuple.\n",
    "<br> You can't add, modify, remove, delete, or pop. If you must make a change, you have to define the tuple all over again"
   ]
  },
  {
   "cell_type": "code",
   "execution_count": 23,
   "metadata": {},
   "outputs": [
    {
     "name": "stdout",
     "output_type": "stream",
     "text": [
      "('Monday', 'Tuesday', 'Wednesday', 'Thursday', 'Friday', 'Saturday', 'Sunday')\n"
     ]
    }
   ],
   "source": [
    "days = (\"Monday\",\"Tuesday\",\"Wednesday\",\"Thursday\",\"Friday\",\"Saturday\",\"Sunday\")\n",
    "print(days)"
   ]
  },
  {
   "cell_type": "code",
   "execution_count": 24,
   "metadata": {},
   "outputs": [
    {
     "name": "stdout",
     "output_type": "stream",
     "text": [
      "Friday\n"
     ]
    }
   ],
   "source": [
    "print(days[4]) #elements accessed the same way as a list"
   ]
  },
  {
   "cell_type": "code",
   "execution_count": 25,
   "metadata": {},
   "outputs": [
    {
     "ename": "TypeError",
     "evalue": "'tuple' object does not support item assignment",
     "output_type": "error",
     "traceback": [
      "\u001b[1;31m---------------------------------------------------------------------------\u001b[0m",
      "\u001b[1;31mTypeError\u001b[0m                                 Traceback (most recent call last)",
      "\u001b[1;32m<ipython-input-25-403868409105>\u001b[0m in \u001b[0;36m<module>\u001b[1;34m()\u001b[0m\n\u001b[1;32m----> 1\u001b[1;33m \u001b[0mdays\u001b[0m\u001b[1;33m[\u001b[0m\u001b[1;36m4\u001b[0m\u001b[1;33m]\u001b[0m \u001b[1;33m=\u001b[0m \u001b[1;34m\"Holiday\"\u001b[0m \u001b[1;31m#tuple cannot be modified\u001b[0m\u001b[1;33m\u001b[0m\u001b[0m\n\u001b[0m",
      "\u001b[1;31mTypeError\u001b[0m: 'tuple' object does not support item assignment"
     ]
    }
   ],
   "source": [
    "days[4] = \"Holiday\" #tuple cannot be modified"
   ]
  },
  {
   "cell_type": "markdown",
   "metadata": {},
   "source": [
    "# For Loop"
   ]
  },
  {
   "cell_type": "code",
   "execution_count": 26,
   "metadata": {},
   "outputs": [
    {
     "name": "stdout",
     "output_type": "stream",
     "text": [
      "Fakhar Zaman is a batsman\n"
     ]
    }
   ],
   "source": [
    "batsmans = [\"Fakhar Zaman\",\"Imam-ul-Haq\",\"Babar Azam\",\"Haria Sohail\",\"Shoaib Malik\",\"Asif Ali\"]\n",
    "player_to_check = \"Fakhar Zaman\"\n",
    "\n",
    "for batsman in batsmans:\n",
    "    if batsman == player_to_check:\n",
    "        print(batsman + \" is a batsman\") "
   ]
  },
  {
   "cell_type": "code",
   "execution_count": 27,
   "metadata": {},
   "outputs": [
    {
     "name": "stdout",
     "output_type": "stream",
     "text": [
      "Fakhar Zaman is a batsman\n",
      "Muhammad Amir is a bowler\n",
      "Junaid Khan is a bowler\n",
      "Shoaib Malik is a batsman\n"
     ]
    }
   ],
   "source": [
    "batsmans = [\"Fakhar Zaman\",\"Imam-ul-Haq\",\"Babar Azam\",\"Haria Sohail\",\"Shoaib Malik\",\"Asif Ali\"]\n",
    "players = [\"Fakhar Zaman\",\"Muhammad Amir\",\"Junaid Khan\",\"Shoaib Malik\"]\n",
    "\n",
    "for player in players:\n",
    "    if  player in batsmans:\n",
    "        print(player + \" is a batsman\")\n",
    "    else:\n",
    "        print(player + \" is a bowler\")"
   ]
  },
  {
   "cell_type": "markdown",
   "metadata": {},
   "source": [
    "# Changing case"
   ]
  },
  {
   "cell_type": "markdown",
   "metadata": {},
   "source": [
    "title() returns a string in title format and doesnt modify the orignal string"
   ]
  },
  {
   "cell_type": "code",
   "execution_count": 28,
   "metadata": {},
   "outputs": [
    {
     "name": "stdout",
     "output_type": "stream",
     "text": [
      "Enter name: adil\n",
      "Adil\n"
     ]
    }
   ],
   "source": [
    "name = input(\"Enter name: \")\n",
    "name = name.title()\n",
    "print(name)"
   ]
  },
  {
   "cell_type": "markdown",
   "metadata": {},
   "source": [
    "title() returns a string in upper case and doesnt modify the orignal string"
   ]
  },
  {
   "cell_type": "code",
   "execution_count": 29,
   "metadata": {},
   "outputs": [
    {
     "name": "stdout",
     "output_type": "stream",
     "text": [
      "Enter name: adil\n",
      "ADIL\n"
     ]
    }
   ],
   "source": [
    "name = input(\"Enter name: \")\n",
    "name = name.upper()\n",
    "print(name)"
   ]
  },
  {
   "cell_type": "markdown",
   "metadata": {},
   "source": [
    "lower() returns a string in lower case and doesnt modify the orignal string"
   ]
  },
  {
   "cell_type": "code",
   "execution_count": 30,
   "metadata": {},
   "outputs": [
    {
     "name": "stdout",
     "output_type": "stream",
     "text": [
      "Enter name: aDiL\n",
      "adil\n"
     ]
    }
   ],
   "source": [
    "name = input(\"Enter name: \")\n",
    "name = name.lower()\n",
    "print(name)"
   ]
  },
  {
   "cell_type": "markdown",
   "metadata": {},
   "source": [
    "# Dictionary\n",
    "Both key and values can be string or integer"
   ]
  },
  {
   "cell_type": "code",
   "execution_count": 31,
   "metadata": {},
   "outputs": [
    {
     "name": "stdout",
     "output_type": "stream",
     "text": [
      "{'name': 'Adil Aslam', 'class': 'BCIT', 'age': 23, 'gpa': 3.83}\n"
     ]
    }
   ],
   "source": [
    "ct15023 = {\n",
    "    \"name\" : \"Adil Aslam\",\n",
    "    \"class\" : \"BCIT\",\n",
    "    \"age\" : 23,\n",
    "    \"gpa\" : 3.83\n",
    "}\n",
    "\n",
    "print(ct15023)"
   ]
  },
  {
   "cell_type": "markdown",
   "metadata": {},
   "source": [
    "Accessing value through key"
   ]
  },
  {
   "cell_type": "code",
   "execution_count": 32,
   "metadata": {},
   "outputs": [
    {
     "name": "stdout",
     "output_type": "stream",
     "text": [
      "23\n"
     ]
    }
   ],
   "source": [
    "print(ct15023[\"age\"])"
   ]
  },
  {
   "cell_type": "markdown",
   "metadata": {},
   "source": [
    "If similar keys are used it considers are most last key from the dictionry"
   ]
  },
  {
   "cell_type": "code",
   "execution_count": 33,
   "metadata": {},
   "outputs": [
    {
     "name": "stdout",
     "output_type": "stream",
     "text": [
      "{'name': 'Adil Aslam', True: 'BCIT', 'gpa': 4}\n"
     ]
    }
   ],
   "source": [
    "ct15023 = {\n",
    "    \"name\" : \"Adil\",\n",
    "    \"name\" : \"Adil Aslam\",\n",
    "    True : \"TCIT\",\n",
    "    True : \"BCIT\",\n",
    "    \"gpa\" : 3.83,\n",
    "    \"gpa\" : 4\n",
    "}\n",
    "print(ct15023)"
   ]
  },
  {
   "cell_type": "markdown",
   "metadata": {},
   "source": [
    "Assigning a new key-value pair"
   ]
  },
  {
   "cell_type": "code",
   "execution_count": 34,
   "metadata": {},
   "outputs": [
    {
     "name": "stdout",
     "output_type": "stream",
     "text": [
      "{'name': 'Adil Aslam', True: 'BCIT', 'gpa': 4, 'semester': 7}\n"
     ]
    }
   ],
   "source": [
    "ct15023[\"semester\"] = 7\n",
    "print(ct15023)"
   ]
  },
  {
   "cell_type": "markdown",
   "metadata": {},
   "source": [
    "Deleting a key-value pair"
   ]
  },
  {
   "cell_type": "code",
   "execution_count": 35,
   "metadata": {},
   "outputs": [
    {
     "name": "stdout",
     "output_type": "stream",
     "text": [
      "{'name': 'Adil Aslam', 'gpa': 4, 'semester': 7}\n"
     ]
    }
   ],
   "source": [
    "del ct15023[True]\n",
    "print(ct15023)"
   ]
  },
  {
   "cell_type": "markdown",
   "metadata": {},
   "source": [
    "Modifying a key-value pair"
   ]
  },
  {
   "cell_type": "code",
   "execution_count": 36,
   "metadata": {},
   "outputs": [
    {
     "name": "stdout",
     "output_type": "stream",
     "text": [
      "{'name': 'Adil Aslam', 'gpa': 4, 'semester': 8}\n"
     ]
    }
   ],
   "source": [
    "ct15023[\"semester\"] = 8\n",
    "print(ct15023)"
   ]
  },
  {
   "cell_type": "markdown",
   "metadata": {},
   "source": [
    "Loop through dictionary values"
   ]
  },
  {
   "cell_type": "code",
   "execution_count": 37,
   "metadata": {},
   "outputs": [
    {
     "name": "stdout",
     "output_type": "stream",
     "text": [
      "Adil Aslam\n",
      "4\n",
      "8\n"
     ]
    }
   ],
   "source": [
    "for value in ct15023.values():\n",
    "    print(value)"
   ]
  },
  {
   "cell_type": "markdown",
   "metadata": {},
   "source": [
    "Loop through dictionary keys (by default without any function)"
   ]
  },
  {
   "cell_type": "code",
   "execution_count": 38,
   "metadata": {},
   "outputs": [
    {
     "name": "stdout",
     "output_type": "stream",
     "text": [
      "Adil Aslam\n",
      "4\n",
      "8\n"
     ]
    }
   ],
   "source": [
    "for key in ct15023.keys(): #or for key in ct15023:\n",
    "    print(ct15023[key])"
   ]
  },
  {
   "cell_type": "markdown",
   "metadata": {},
   "source": [
    "Loop through dictionary key-value pair"
   ]
  },
  {
   "cell_type": "code",
   "execution_count": 39,
   "metadata": {},
   "outputs": [
    {
     "name": "stdout",
     "output_type": "stream",
     "text": [
      "Name = Adil Aslam\n",
      "Gpa = 4\n",
      "Semester = 8\n"
     ]
    }
   ],
   "source": [
    "for key,val in ct15023.items():\n",
    "    print(str(key).title() + \" = \" + str(val))"
   ]
  },
  {
   "cell_type": "markdown",
   "metadata": {},
   "source": [
    "List of dictionaries"
   ]
  },
  {
   "cell_type": "code",
   "execution_count": 40,
   "metadata": {},
   "outputs": [
    {
     "name": "stdout",
     "output_type": "stream",
     "text": [
      "[{'name': 'Fakhar Zaman', 'runs': 1023}, {'name': 'Imam-ul-Haq', 'runs': 828}, {'name': 'Babar Azam', 'runs': 3402}]\n"
     ]
    }
   ],
   "source": [
    "cricketers = [\n",
    "    {\n",
    "        \"name\" : \"Fakhar Zaman\",\n",
    "        \"runs\" : 1023\n",
    "    },\n",
    "    {\n",
    "        \"name\" : \"Imam-ul-Haq\",\n",
    "        \"runs\" : 828\n",
    "    },\n",
    "    {\n",
    "        \"name\" : \"Babar Azam\",\n",
    "        \"runs\" : 3402\n",
    "    }\n",
    "]\n",
    "print(cricketers)"
   ]
  },
  {
   "cell_type": "code",
   "execution_count": 41,
   "metadata": {},
   "outputs": [
    {
     "name": "stdout",
     "output_type": "stream",
     "text": [
      "{'name': 'Fakhar Zaman', 'runs': 1023}\n",
      "1023\n",
      "828\n"
     ]
    }
   ],
   "source": [
    "fav_player = cricketers[0]\n",
    "print(fav_player)\n",
    "print(fav_player[\"runs\"])\n",
    "print(cricketers[1][\"runs\"]) #accessing dictionary inside a list"
   ]
  },
  {
   "cell_type": "markdown",
   "metadata": {},
   "source": [
    "Dictionary containing a list"
   ]
  },
  {
   "cell_type": "code",
   "execution_count": 42,
   "metadata": {},
   "outputs": [
    {
     "name": "stdout",
     "output_type": "stream",
     "text": [
      "['Pizza Fries', 'Pizza Burger', 'Pizza Sandwich']\n"
     ]
    }
   ],
   "source": [
    "restaurant = {\n",
    "    \"name\" : \"Bites for Delight\",\n",
    "    \"cusine_type\" : \"Fast Food\",\n",
    "    \"dishes\" : [\"Pizza Fries\",\"Pizza Burger\",\"Pizza Sandwich\"]\n",
    "}\n",
    "dishes = restaurant[\"dishes\"]\n",
    "print(dishes)"
   ]
  },
  {
   "cell_type": "markdown",
   "metadata": {},
   "source": [
    "Dictionary containing dictionaries"
   ]
  },
  {
   "cell_type": "code",
   "execution_count": 43,
   "metadata": {},
   "outputs": [
    {
     "name": "stdout",
     "output_type": "stream",
     "text": [
      "847\n",
      "1002\n"
     ]
    }
   ],
   "source": [
    "cricketers = {\n",
    "    \n",
    "    \"Fakhar Zaman\" : {\n",
    "        \"age\" : 33,\n",
    "        \"runs\" : 1023\n",
    "    },\n",
    "    \"Imam-ul-Haq\" : {\n",
    "        \"age\" : 28,\n",
    "        \"runs\" : 847\n",
    "    },\n",
    "    \"Babar Azam\" : {\n",
    "        \"age\" : 26,\n",
    "        \"runs\" : 3402\n",
    "    }\n",
    "    \n",
    "}\n",
    "\n",
    "print(cricketers[\"Imam-ul-Haq\"][\"runs\"]) #access dictionary inside a dictionry\n",
    "cricketers[\"Imam-ul-Haq\"][\"runs\"] = 1002 #modifying dictionary inside a dictionry\n",
    "print(cricketers[\"Imam-ul-Haq\"][\"runs\"])"
   ]
  },
  {
   "cell_type": "markdown",
   "metadata": {},
   "source": [
    "# Functions"
   ]
  },
  {
   "cell_type": "code",
   "execution_count": 44,
   "metadata": {},
   "outputs": [],
   "source": [
    "def printFullName(first_name, last_name):\n",
    "    print(first_name.title() + \" \" + last_name.title())"
   ]
  },
  {
   "cell_type": "markdown",
   "metadata": {},
   "source": [
    "passing positional arguments"
   ]
  },
  {
   "cell_type": "code",
   "execution_count": 45,
   "metadata": {},
   "outputs": [
    {
     "name": "stdout",
     "output_type": "stream",
     "text": [
      "Adil Sachwani\n"
     ]
    }
   ],
   "source": [
    "printFullName(\"Adil\",\"Sachwani\")"
   ]
  },
  {
   "cell_type": "markdown",
   "metadata": {},
   "source": [
    "passing keyword arguments"
   ]
  },
  {
   "cell_type": "code",
   "execution_count": 46,
   "metadata": {},
   "outputs": [
    {
     "name": "stdout",
     "output_type": "stream",
     "text": [
      "Adil Sachwani\n"
     ]
    }
   ],
   "source": [
    "printFullName(last_name=\"Sachwani\", first_name=\"Adil\")"
   ]
  },
  {
   "cell_type": "markdown",
   "metadata": {},
   "source": [
    "default value"
   ]
  },
  {
   "cell_type": "code",
   "execution_count": 47,
   "metadata": {},
   "outputs": [
    {
     "name": "stdout",
     "output_type": "stream",
     "text": [
      "16000.0\n"
     ]
    }
   ],
   "source": [
    "def findIncome(basic,tax = 0.2):\n",
    "    income = basic - (basic * tax)\n",
    "    return income\n",
    "\n",
    "print(findIncome(20000))"
   ]
  },
  {
   "cell_type": "markdown",
   "metadata": {},
   "source": [
    "Positional arguments must come before keyword arguments"
   ]
  },
  {
   "cell_type": "code",
   "execution_count": 48,
   "metadata": {},
   "outputs": [
    {
     "name": "stdout",
     "output_type": "stream",
     "text": [
      "Babar Azam  PAKISTAN - 66.08695652173913\n"
     ]
    }
   ],
   "source": [
    "def playerStats(name, country, matches, runs):\n",
    "    print(name.title() + \"  \" + country.upper() + \" - \" + str(runs/matches))\n",
    "    \n",
    "playerStats(\"Babar Azam\",\"Pakistan\", matches=46, runs=3040)"
   ]
  },
  {
   "cell_type": "markdown",
   "metadata": {},
   "source": [
    "Positional arguments and parameters always come first, keyword parameters without defaults always come second, and keyword parameters with defaults always come last."
   ]
  },
  {
   "cell_type": "code",
   "execution_count": 49,
   "metadata": {},
   "outputs": [
    {
     "name": "stdout",
     "output_type": "stream",
     "text": [
      "Adil Aslam\n",
      "CT-023 TCIT\n"
     ]
    }
   ],
   "source": [
    "def details(first_name, last_name, roll_num, section=\"tcit\"): #compulsory to define default parameter at last\n",
    "    print(first_name.title() + \" \" + last_name.title())\n",
    "    print(\"CT-0\" + str(roll_num) + \" \" + section.upper())\n",
    "    \n",
    "details(\"adil\", \"aslam\", roll_num=23)"
   ]
  },
  {
   "cell_type": "markdown",
   "metadata": {},
   "source": [
    "Optional arguments must come after regular arguments.\n",
    "<br>The one asterisk followed by a parameter name mean that there may or may not be one or more positional arguments passed.\n",
    "<br>Returns in the form of Tuple"
   ]
  },
  {
   "cell_type": "code",
   "execution_count": 50,
   "metadata": {},
   "outputs": [
    {
     "name": "stdout",
     "output_type": "stream",
     "text": [
      "GINSOY - Chinese\n",
      "Steak\n",
      "Chicken Manchurian\n",
      "Pizza\n",
      "BROADWAY PIZZA - Pizza\n"
     ]
    }
   ],
   "source": [
    "def restaraunt(name, cusine, *dishes):\n",
    "    print(name.upper() + \" - \" + cusine.title())\n",
    "    for dish in dishes:\n",
    "        print(dish.title())\n",
    "        \n",
    "restaraunt(\"ginsoy\",\"chinese\",\"steak\",\"chicken manchurian\",\"pizza\") #with optional argument\n",
    "restaraunt(\"broadway pizza\",\"pizza\") #without optional argument"
   ]
  },
  {
   "cell_type": "markdown",
   "metadata": {},
   "source": [
    "The two asterisk followed by a parameter name mean that there may or may not be one or more keyword arguments passed.\n",
    "<br>Returns in the form of Dictionary"
   ]
  },
  {
   "cell_type": "code",
   "execution_count": 51,
   "metadata": {},
   "outputs": [
    {
     "name": "stdout",
     "output_type": "stream",
     "text": [
      "Adil Aslam\n",
      "section - BCIT\n",
      "rollnum - CT-023\n"
     ]
    }
   ],
   "source": [
    "def details(name,**other_details):\n",
    "    print(name.title())\n",
    "    for key,val in other_details.items():\n",
    "        print(key + \" - \" + val)\n",
    "        \n",
    "details(\"Adil Aslam\", section = \"BCIT\", rollnum = \"CT-023\")"
   ]
  },
  {
   "cell_type": "markdown",
   "metadata": {},
   "source": [
    "Return values in python (Function are variable in a way)"
   ]
  },
  {
   "cell_type": "code",
   "execution_count": 52,
   "metadata": {},
   "outputs": [
    {
     "name": "stdout",
     "output_type": "stream",
     "text": [
      "0\n",
      "3\n",
      "10\n"
     ]
    }
   ],
   "source": [
    "def add(*nums):\n",
    "    sum = 0\n",
    "    for num in nums:\n",
    "        sum += num\n",
    "    return sum\n",
    "\n",
    "print(add())\n",
    "print(add(1,2))\n",
    "print(add(1,2,3,4))"
   ]
  },
  {
   "cell_type": "markdown",
   "metadata": {},
   "source": [
    "A global variable is one you define in the main body of your code—that is, not in a function.\n",
    "<br>A local variable is one that you define in a function."
   ]
  },
  {
   "cell_type": "code",
   "execution_count": 53,
   "metadata": {},
   "outputs": [
    {
     "name": "stdout",
     "output_type": "stream",
     "text": [
      "2\n",
      "1\n"
     ]
    }
   ],
   "source": [
    "def whatever():\n",
    "    y = 2\n",
    "    print(y)\n",
    "\n",
    "y = 1\n",
    "whatever()\n",
    "print(y)"
   ]
  },
  {
   "cell_type": "markdown",
   "metadata": {},
   "source": [
    "Functions as arguments"
   ]
  },
  {
   "cell_type": "code",
   "execution_count": 54,
   "metadata": {},
   "outputs": [
    {
     "name": "stdout",
     "output_type": "stream",
     "text": [
      "2\n",
      "4\n"
     ]
    }
   ],
   "source": [
    "#Example 1\n",
    "def func(num,f):\n",
    "    print(num)\n",
    "    f(num)\n",
    "\n",
    "def x(n):\n",
    "    print(n**2)\n",
    "    \n",
    "func(2,x)"
   ]
  },
  {
   "cell_type": "code",
   "execution_count": 55,
   "metadata": {},
   "outputs": [],
   "source": [
    "def func(num,f):\n",
    "    print(num)\n",
    "    f(num)\n",
    "\n",
    "#function x comes first\n",
    "def x(n):\n",
    "    print(n**2)\n",
    "    \n",
    "#integer x comes second (therefore integer x overrides function x)\n",
    "x = 2"
   ]
  },
  {
   "cell_type": "markdown",
   "metadata": {},
   "source": [
    "# Classes\n",
    "Simple class Person"
   ]
  },
  {
   "cell_type": "code",
   "execution_count": 56,
   "metadata": {},
   "outputs": [],
   "source": [
    "class Person():\n",
    "    def __init__(self, first_name, last_name, age):\n",
    "        self.first_name = first_name\n",
    "        self.last_name = last_name\n",
    "        self.age = age\n",
    "        \n",
    "    def checkAge(self):\n",
    "        if self.age>=18:\n",
    "            print(\"Adult\")\n",
    "        else:\n",
    "            print(\"Child\")"
   ]
  },
  {
   "cell_type": "markdown",
   "metadata": {},
   "source": [
    "Create instances of class Person"
   ]
  },
  {
   "cell_type": "code",
   "execution_count": 57,
   "metadata": {},
   "outputs": [],
   "source": [
    "adil = Person(\"Adil\",\"Sachwani\",22)\n",
    "amna = Person(\"Amna\",\"Habibi\",21)"
   ]
  },
  {
   "cell_type": "markdown",
   "metadata": {},
   "source": [
    "Call attributes and methods of instances"
   ]
  },
  {
   "cell_type": "code",
   "execution_count": 58,
   "metadata": {},
   "outputs": [
    {
     "name": "stdout",
     "output_type": "stream",
     "text": [
      "Adil\n",
      "Sachwani\n",
      "22\n",
      "Adult\n",
      "Amna\n",
      "Habibi\n",
      "21\n",
      "Adult\n"
     ]
    }
   ],
   "source": [
    "print(adil.first_name)\n",
    "print(adil.last_name)\n",
    "print(adil.age)\n",
    "adil.checkAge()\n",
    "\n",
    "print(amna.first_name)\n",
    "print(amna.last_name)\n",
    "print(amna.age)\n",
    "amna.checkAge()"
   ]
  },
  {
   "cell_type": "markdown",
   "metadata": {},
   "source": [
    "# Inheritance"
   ]
  },
  {
   "cell_type": "markdown",
   "metadata": {},
   "source": [
    "When one class inherits from another, it automatically takes on all the attributes and methods of the first class. The original class is called the parent class, and the new class is the child class."
   ]
  },
  {
   "cell_type": "code",
   "execution_count": 59,
   "metadata": {},
   "outputs": [],
   "source": [
    "class Person():\n",
    "    def __init__(self,name,age):\n",
    "        self.name = name\n",
    "        self.age = age\n",
    "    \n",
    "    def checkAge(self):\n",
    "        if self.age >= 18:\n",
    "            return \"Adult\"\n",
    "        else:\n",
    "            return \"Child\""
   ]
  },
  {
   "cell_type": "code",
   "execution_count": 60,
   "metadata": {},
   "outputs": [],
   "source": [
    "class Student(Person):\n",
    "    def __init__(self,name,age,marks):\n",
    "        super().__init__(name,age)\n",
    "        self.marks = marks\n",
    "    \n",
    "    def checkMarks(self):\n",
    "        if self.marks >= 70:\n",
    "            return \"Pass\"\n",
    "        else:\n",
    "            return \"Fail\""
   ]
  },
  {
   "cell_type": "code",
   "execution_count": 61,
   "metadata": {},
   "outputs": [
    {
     "name": "stdout",
     "output_type": "stream",
     "text": [
      "Adult\n",
      "Pass\n"
     ]
    }
   ],
   "source": [
    "adil = Student(\"Adil Aslam\",22,82)\n",
    "print(adil.checkAge())\n",
    "print(adil.checkMarks())"
   ]
  },
  {
   "cell_type": "markdown",
   "metadata": {},
   "source": [
    "# Instances as Attributes"
   ]
  },
  {
   "cell_type": "code",
   "execution_count": 62,
   "metadata": {},
   "outputs": [],
   "source": [
    "class Stats():\n",
    "    def __init__(self,matches,runs):\n",
    "        self.matches = matches\n",
    "        self.runs = runs"
   ]
  },
  {
   "cell_type": "code",
   "execution_count": 63,
   "metadata": {},
   "outputs": [],
   "source": [
    "class Cricketer():\n",
    "    def __init__(self,name,country,age,stats):\n",
    "        self.name = name\n",
    "        self.country = country\n",
    "        self.age = age\n",
    "        self.stats = stats"
   ]
  },
  {
   "cell_type": "code",
   "execution_count": 64,
   "metadata": {},
   "outputs": [],
   "source": [
    "statsOne = Stats(56,2033)\n",
    "cricketerOne = Cricketer(\"Misbah-ul-Haq\", \"Pakistan\", 45, statsOne)"
   ]
  },
  {
   "cell_type": "code",
   "execution_count": 65,
   "metadata": {},
   "outputs": [
    {
     "name": "stdout",
     "output_type": "stream",
     "text": [
      "Misbah-ul-Haq\n",
      "45\n",
      "Pakistan\n",
      "<__main__.Stats object at 0x00000166B5C81B70>\n",
      "56\n",
      "2033\n"
     ]
    }
   ],
   "source": [
    "print(cricketerOne.name)\n",
    "print(cricketerOne.age)\n",
    "print(cricketerOne.country)\n",
    "print(cricketerOne.stats)\n",
    "print(cricketerOne.stats.matches)\n",
    "print(cricketerOne.stats.runs)"
   ]
  },
  {
   "cell_type": "markdown",
   "metadata": {},
   "source": [
    "# Overriding"
   ]
  },
  {
   "cell_type": "code",
   "execution_count": 66,
   "metadata": {},
   "outputs": [],
   "source": [
    "class X():\n",
    "    def displayGreetings(self):\n",
    "        print(\"Hello\")"
   ]
  },
  {
   "cell_type": "code",
   "execution_count": 67,
   "metadata": {},
   "outputs": [],
   "source": [
    "class Y(X):\n",
    "    def displayGreetings(self):\n",
    "        print(\"Hello World\")"
   ]
  },
  {
   "cell_type": "code",
   "execution_count": 68,
   "metadata": {},
   "outputs": [
    {
     "name": "stdout",
     "output_type": "stream",
     "text": [
      "Hello\n",
      "Hello World\n"
     ]
    }
   ],
   "source": [
    "x = X()\n",
    "y = Y()\n",
    "x.displayGreetings()\n",
    "y.displayGreetings()"
   ]
  },
  {
   "cell_type": "markdown",
   "metadata": {},
   "source": [
    "# Importing Modules"
   ]
  },
  {
   "cell_type": "code",
   "execution_count": 69,
   "metadata": {},
   "outputs": [
    {
     "name": "stdout",
     "output_type": "stream",
     "text": [
      "Writing cricket.py\n"
     ]
    }
   ],
   "source": [
    "%%writefile cricket.py\n",
    "\n",
    "class Stats():\n",
    "    def __init__(self,matches,runs):\n",
    "        self.matches = matches\n",
    "        self.runs = runs\n",
    "        \n",
    "class Cricketer():\n",
    "    def __init__(self,name,country,age,stats):\n",
    "        self.name = name\n",
    "        self.country = country\n",
    "        self.age = age\n",
    "        self.stats = stats"
   ]
  },
  {
   "cell_type": "code",
   "execution_count": 70,
   "metadata": {},
   "outputs": [],
   "source": [
    "#Importing a single Class from a Module\n",
    "from cricket import Cricketer as Cric\n",
    "\n",
    "virat = Cric(\"Virat\",\"India\",30,statsOne)"
   ]
  },
  {
   "cell_type": "code",
   "execution_count": 71,
   "metadata": {},
   "outputs": [],
   "source": [
    "#Importing multiple Classes from a Module\n",
    "from cricket import Cricketer as C, Stats as S\n",
    "\n",
    "statsVirat = S(124,8030)\n",
    "playerVirat = C(\"Virat\",\"India\",30,statsVirat)"
   ]
  },
  {
   "cell_type": "code",
   "execution_count": 72,
   "metadata": {},
   "outputs": [],
   "source": [
    "#Importing all Classes from a Module\n",
    "from cricket import *\n",
    "\n",
    "statsVirat = S(124,8030)\n",
    "playerVirat = C(\"Virat\",\"India\",30,statsVirat)"
   ]
  },
  {
   "cell_type": "code",
   "execution_count": 73,
   "metadata": {},
   "outputs": [],
   "source": [
    "#Importing an entire Module\n",
    "import cricket\n",
    "\n",
    "statsVirat = cricket.Stats(124,8030)\n",
    "playerVirat = cricket.Cricketer(\"Virat\",\"India\",30,statsVirat)"
   ]
  },
  {
   "cell_type": "markdown",
   "metadata": {},
   "source": [
    "# Data Files\n",
    "'with' means closing the file afte you write to it"
   ]
  },
  {
   "cell_type": "code",
   "execution_count": 74,
   "metadata": {},
   "outputs": [],
   "source": [
    "with open('adil.txt','w') as file:\n",
    "    file.write(\"Adil Aslam\")"
   ]
  },
  {
   "cell_type": "markdown",
   "metadata": {},
   "source": [
    "'r' is by default if you dont provide the mode argument"
   ]
  },
  {
   "cell_type": "code",
   "execution_count": 75,
   "metadata": {},
   "outputs": [
    {
     "name": "stdout",
     "output_type": "stream",
     "text": [
      "Adil Aslam\n",
      "Adil Aslam\n"
     ]
    }
   ],
   "source": [
    "with open('adil.txt','r') as file:\n",
    "    print(file.read())\n",
    "    \n",
    "with open('adil.txt') as file:\n",
    "    print(file.read())"
   ]
  },
  {
   "cell_type": "markdown",
   "metadata": {},
   "source": [
    "'a' to append data to a file while preserving existing data in the file"
   ]
  },
  {
   "cell_type": "code",
   "execution_count": 76,
   "metadata": {},
   "outputs": [],
   "source": [
    "with open('adil.txt','a') as file:\n",
    "    file.write(\"AsSalam o Alaikum\")"
   ]
  },
  {
   "cell_type": "markdown",
   "metadata": {},
   "source": [
    "# JSON\n",
    "You can't save a Python list in a text file. You can only save a text string. You can save a list in a CSV file, but a more straightforward approach is to use JSON."
   ]
  },
  {
   "cell_type": "code",
   "execution_count": 83,
   "metadata": {},
   "outputs": [],
   "source": [
    "import json"
   ]
  },
  {
   "cell_type": "code",
   "execution_count": 84,
   "metadata": {},
   "outputs": [],
   "source": [
    "names = [\"Adil Aslam\", \"Naveed Raza\", \"Rija Asif Butt\", \"Amna Ahmed Habibi\"]\n",
    "\n",
    "cricketer = {\n",
    "    \"name\" : \"Quinton De Kock\",\n",
    "    \"country\" : \"South Africa\",\n",
    "    \"age\" : 29,\n",
    "    \"debut\" : 2009\n",
    "}"
   ]
  },
  {
   "cell_type": "code",
   "execution_count": null,
   "metadata": {},
   "outputs": [],
   "source": [
    "#write\n",
    "with open(\"names.json\",\"w\") as file:\n",
    "    json.dump(names,file)\n",
    "    \n",
    "with open(\"cricketer.json\",\"w\") as file:\n",
    "    json.dump(cricketer,file)"
   ]
  },
  {
   "cell_type": "code",
   "execution_count": 88,
   "metadata": {},
   "outputs": [],
   "source": [
    "#read\n",
    "with open(\"names.json\",\"r\") as file:\n",
    "    names_list = json.load(file)\n",
    "    \n",
    "with open(\"cricketer.json\",\"r\") as file:\n",
    "    cricketer_dict = json.load(file)"
   ]
  },
  {
   "cell_type": "code",
   "execution_count": 89,
   "metadata": {},
   "outputs": [
    {
     "name": "stdout",
     "output_type": "stream",
     "text": [
      "['Adil Aslam', 'Naveed Raza', 'Rija Asif Butt', 'Amna Ahmed Habibi']\n",
      "{'name': 'Quinton De Kock', 'country': 'South Africa', 'age': 29, 'debut': 2009}\n"
     ]
    }
   ],
   "source": [
    "#print\n",
    "print(names_list)\n",
    "print(cricketer_dict)"
   ]
  },
  {
   "cell_type": "markdown",
   "metadata": {},
   "source": [
    "# Exception Handling\n",
    "<b>Example 1</b>"
   ]
  },
  {
   "cell_type": "code",
   "execution_count": 108,
   "metadata": {},
   "outputs": [
    {
     "name": "stdout",
     "output_type": "stream",
     "text": [
      "Enter number 1: 2\n",
      "Enter number 2: 0\n",
      "Zero Division Error\n"
     ]
    }
   ],
   "source": [
    "a = int(input(\"Enter number 1: \"))\n",
    "b = int(input(\"Enter number 2: \"))\n",
    "\n",
    "try:\n",
    "    c = a/b\n",
    "    print(c)\n",
    "except ZeroDivisionError:\n",
    "    print(\"Zero Division Error\")"
   ]
  },
  {
   "cell_type": "markdown",
   "metadata": {},
   "source": [
    "<b>Example 2</b>"
   ]
  },
  {
   "cell_type": "code",
   "execution_count": 110,
   "metadata": {},
   "outputs": [
    {
     "name": "stdout",
     "output_type": "stream",
     "text": [
      "File not found\n"
     ]
    }
   ],
   "source": [
    "try:\n",
    "    with open(\"sample.txt\",\"r\") as f:\n",
    "        data = f.read()\n",
    "        print(data)\n",
    "except FileNotFoundError:\n",
    "    print(\"File not found\")"
   ]
  },
  {
   "cell_type": "markdown",
   "metadata": {},
   "source": [
    "# Public and Private Access Modifiers"
   ]
  },
  {
   "cell_type": "code",
   "execution_count": 151,
   "metadata": {},
   "outputs": [],
   "source": [
    "class Person():\n",
    "    def __init__(self,name,age,nationality):\n",
    "        self.name = name #public attribute\n",
    "        self.__age = age #private attribute\n",
    "    def getAge(self):\n",
    "        return self.__age"
   ]
  },
  {
   "cell_type": "code",
   "execution_count": 146,
   "metadata": {},
   "outputs": [
    {
     "ename": "TypeError",
     "evalue": "__init__() missing 1 required positional argument: 'nationality'",
     "output_type": "error",
     "traceback": [
      "\u001b[1;31m---------------------------------------------------------------------------\u001b[0m",
      "\u001b[1;31mTypeError\u001b[0m                                 Traceback (most recent call last)",
      "\u001b[1;32m<ipython-input-146-e75a0b49fee1>\u001b[0m in \u001b[0;36m<module>\u001b[1;34m()\u001b[0m\n\u001b[1;32m----> 1\u001b[1;33m \u001b[0mp\u001b[0m \u001b[1;33m=\u001b[0m \u001b[0mPerson\u001b[0m\u001b[1;33m(\u001b[0m\u001b[1;34m\"Adil\"\u001b[0m\u001b[1;33m,\u001b[0m\u001b[1;36m22\u001b[0m\u001b[1;33m)\u001b[0m\u001b[1;33m\u001b[0m\u001b[0m\n\u001b[0m",
      "\u001b[1;31mTypeError\u001b[0m: __init__() missing 1 required positional argument: 'nationality'"
     ]
    }
   ],
   "source": [
    "p = Person(\"Adil\",22)"
   ]
  },
  {
   "cell_type": "code",
   "execution_count": 147,
   "metadata": {},
   "outputs": [
    {
     "data": {
      "text/plain": [
       "'Adil'"
      ]
     },
     "execution_count": 147,
     "metadata": {},
     "output_type": "execute_result"
    }
   ],
   "source": [
    "p.name #public can be accessed outside the class"
   ]
  },
  {
   "cell_type": "code",
   "execution_count": 148,
   "metadata": {},
   "outputs": [
    {
     "ename": "AttributeError",
     "evalue": "'Person' object has no attribute '__age'",
     "output_type": "error",
     "traceback": [
      "\u001b[1;31m---------------------------------------------------------------------------\u001b[0m",
      "\u001b[1;31mAttributeError\u001b[0m                            Traceback (most recent call last)",
      "\u001b[1;32m<ipython-input-148-953415856f5c>\u001b[0m in \u001b[0;36m<module>\u001b[1;34m()\u001b[0m\n\u001b[1;32m----> 1\u001b[1;33m \u001b[0mp\u001b[0m\u001b[1;33m.\u001b[0m\u001b[0m__age\u001b[0m \u001b[1;31m#private cannot be accessed outside the class\u001b[0m\u001b[1;33m\u001b[0m\u001b[0m\n\u001b[0m",
      "\u001b[1;31mAttributeError\u001b[0m: 'Person' object has no attribute '__age'"
     ]
    }
   ],
   "source": [
    "p.__age #private cannot be accessed outside the class"
   ]
  },
  {
   "cell_type": "code",
   "execution_count": 149,
   "metadata": {},
   "outputs": [
    {
     "data": {
      "text/plain": [
       "22"
      ]
     },
     "execution_count": 149,
     "metadata": {},
     "output_type": "execute_result"
    }
   ],
   "source": [
    "p.getAge() #private can be accessed using a getter method"
   ]
  },
  {
   "cell_type": "code",
   "execution_count": 150,
   "metadata": {},
   "outputs": [
    {
     "data": {
      "text/plain": [
       "22"
      ]
     },
     "execution_count": 150,
     "metadata": {},
     "output_type": "execute_result"
    }
   ],
   "source": [
    "p._Person__age #private can alse be accessed this way"
   ]
  },
  {
   "cell_type": "markdown",
   "metadata": {},
   "source": [
    "# Encapsulation"
   ]
  },
  {
   "cell_type": "markdown",
   "metadata": {},
   "source": [
    "Bundling data and methods that work on that data within one unit. It is also refered as information hiding. You can restrict access to methods and variables. This can prevent the data from being modified by accident and is known as encapsulation."
   ]
  },
  {
   "cell_type": "code",
   "execution_count": 158,
   "metadata": {},
   "outputs": [],
   "source": [
    "class Student():\n",
    "    def __init__(self,name,age,marks):\n",
    "        self.__name = name #private attribute\n",
    "        self.__age = age #private attribute\n",
    "        self.__marks = marks #private attribute\n",
    "    \n",
    "    #getter method for private attribute *name*\n",
    "    def getName(self): \n",
    "        return self.__name \n",
    "    #getter method for private attribute *age*\n",
    "    def getAge(self):\n",
    "        return self.__age\n",
    "    #getter method for private attribute *marks*\n",
    "    def getMarks(self):\n",
    "        return self.__marks"
   ]
  },
  {
   "cell_type": "code",
   "execution_count": 159,
   "metadata": {},
   "outputs": [],
   "source": [
    "#instance of class Student\n",
    "s1 = Student(\"Adil\",22,82)"
   ]
  },
  {
   "cell_type": "code",
   "execution_count": 160,
   "metadata": {},
   "outputs": [
    {
     "ename": "AttributeError",
     "evalue": "'Student' object has no attribute '__name'",
     "output_type": "error",
     "traceback": [
      "\u001b[1;31m---------------------------------------------------------------------------\u001b[0m",
      "\u001b[1;31mAttributeError\u001b[0m                            Traceback (most recent call last)",
      "\u001b[1;32m<ipython-input-160-5ce13ef38a58>\u001b[0m in \u001b[0;36m<module>\u001b[1;34m()\u001b[0m\n\u001b[0;32m      1\u001b[0m \u001b[1;31m#accessing private attribute directly (not possible cause of being private)\u001b[0m\u001b[1;33m\u001b[0m\u001b[1;33m\u001b[0m\u001b[0m\n\u001b[1;32m----> 2\u001b[1;33m \u001b[0mprint\u001b[0m\u001b[1;33m(\u001b[0m\u001b[0ms1\u001b[0m\u001b[1;33m.\u001b[0m\u001b[0m__name\u001b[0m\u001b[1;33m)\u001b[0m\u001b[1;33m\u001b[0m\u001b[0m\n\u001b[0m",
      "\u001b[1;31mAttributeError\u001b[0m: 'Student' object has no attribute '__name'"
     ]
    }
   ],
   "source": [
    "#accessing private attribute directly (not possible cause of being private)\n",
    "print(s1.__name)"
   ]
  },
  {
   "cell_type": "code",
   "execution_count": 162,
   "metadata": {},
   "outputs": [
    {
     "name": "stdout",
     "output_type": "stream",
     "text": [
      "Adil\n"
     ]
    }
   ],
   "source": [
    "#accessing through getter method\n",
    "print(s1.getName())"
   ]
  }
 ],
 "metadata": {
  "kernelspec": {
   "display_name": "Python 3",
   "language": "python",
   "name": "python3"
  }
 },
 "nbformat": 4,
 "nbformat_minor": 2
}
