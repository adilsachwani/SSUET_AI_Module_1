{
 "cells": [
  {
   "cell_type": "markdown",
   "metadata": {},
   "source": [
    "<h3>Q no 1:  Write a python program to find number of occurrences of given number in a list with out using built-in methods</h3>\n",
    "<h4>**1 generate a list of some random num which is repeated again and again</h4>\n",
    "<h4>**2 take user input any number</h4>\n",
    "<h4>**3 find the number of occurrences of that num in your list</h4>\n",
    "<h4>**4 print some message to user with that result</h4>"
   ]
  },
  {
   "cell_type": "code",
   "execution_count": 60,
   "metadata": {},
   "outputs": [
    {
     "name": "stdout",
     "output_type": "stream",
     "text": [
      "[4, 7, 7, 9, 9, 4, 7, 7, 8, 9, 3, 2, 9, 9, 2, 4, 4, 7, 8, 6]\n"
     ]
    }
   ],
   "source": [
    "import random\n",
    "nums = []\n",
    "\n",
    "for i in range(20):\n",
    "    nums.append(random.randint(1,10))\n",
    "    \n",
    "print(nums)"
   ]
  },
  {
   "cell_type": "code",
   "execution_count": 61,
   "metadata": {},
   "outputs": [
    {
     "name": "stdout",
     "output_type": "stream",
     "text": [
      "Enter any number: 3\n"
     ]
    }
   ],
   "source": [
    "n = int(input(\"Enter any number: \"))"
   ]
  },
  {
   "cell_type": "code",
   "execution_count": 62,
   "metadata": {},
   "outputs": [],
   "source": [
    "count = 0\n",
    "\n",
    "for num in nums:\n",
    "    if num == n:\n",
    "        count+=1"
   ]
  },
  {
   "cell_type": "code",
   "execution_count": 63,
   "metadata": {},
   "outputs": [
    {
     "name": "stdout",
     "output_type": "stream",
     "text": [
      "Total occurance of number 3 is 1\n"
     ]
    }
   ],
   "source": [
    "print(\"Total occurance of number \" + str(n) + \" is \" + str(count)) "
   ]
  },
  {
   "cell_type": "markdown",
   "metadata": {},
   "source": [
    "<h3>Q no 2:   [\"www.zframez.com\", \"www.wikipedia.org\", \"www.asp.net\", \"www.abcd.in\"]</h3>\n",
    "<h4>Write a python program to print website suffixes (com , org , net ,in) from this list</h4>"
   ]
  },
  {
   "cell_type": "code",
   "execution_count": 64,
   "metadata": {},
   "outputs": [
    {
     "name": "stdout",
     "output_type": "stream",
     "text": [
      "com\n",
      "org\n",
      "net\n",
      "in\n"
     ]
    }
   ],
   "source": [
    "websites = [\"www.zframez.com\", \"www.wikipedia.org\", \"www.asp.net\", \"www.abcd.in\"]\n",
    "\n",
    "for website in websites:\n",
    "    s = website.split('.')[2]\n",
    "    print(s)"
   ]
  },
  {
   "cell_type": "markdown",
   "metadata": {},
   "source": [
    "<h3> Q no 3 : Write a program which can compute the factorial of a given numbers.</h3>\n",
    "<h4>**1 first take user input any number</h4>\n",
    "<h4>**2 calculate factorial of that input and then print the result to user</h4>"
   ]
  },
  {
   "cell_type": "code",
   "execution_count": 65,
   "metadata": {},
   "outputs": [
    {
     "name": "stdout",
     "output_type": "stream",
     "text": [
      "Enter number: 4\n"
     ]
    }
   ],
   "source": [
    "num = int(input(\"Enter number: \"));"
   ]
  },
  {
   "cell_type": "code",
   "execution_count": 66,
   "metadata": {},
   "outputs": [
    {
     "name": "stdout",
     "output_type": "stream",
     "text": [
      "Factorial of 4 is 24\n"
     ]
    }
   ],
   "source": [
    "num_list = list(range(1,num+1))\n",
    "fact = 1\n",
    "\n",
    "for n in num_list:\n",
    "    fact = fact * n\n",
    "    \n",
    "print(\"Factorial of \" + str(num) + \" is \" + str(fact))"
   ]
  },
  {
   "cell_type": "markdown",
   "metadata": {},
   "source": [
    "<h3>Q 4 (a) :  If you could invite anyone, living or deceased, to dinner, who\n",
    "would you invite? Make a list that includes at least three people you’d like to\n",
    "invite to dinner. Then use your list to print a message to each person, inviting\n",
    "them to dinner.</h3>"
   ]
  },
  {
   "cell_type": "code",
   "execution_count": 67,
   "metadata": {},
   "outputs": [
    {
     "name": "stdout",
     "output_type": "stream",
     "text": [
      "Mr. Naveed, you are invited to my place at 10:00 PM tomorrow.\n",
      "Mr. Rija, you are invited to my place at 10:00 PM tomorrow.\n",
      "Mr. Amna, you are invited to my place at 10:00 PM tomorrow.\n",
      "Mr. Surman, you are invited to my place at 10:00 PM tomorrow.\n",
      "Mr. Sania, you are invited to my place at 10:00 PM tomorrow.\n",
      "Mr. Ather, you are invited to my place at 10:00 PM tomorrow.\n",
      "Mr. Ramisha, you are invited to my place at 10:00 PM tomorrow.\n",
      "Mr. Areeba, you are invited to my place at 10:00 PM tomorrow.\n",
      "Mr. Haiqa, you are invited to my place at 10:00 PM tomorrow.\n",
      "Mr. Sami, you are invited to my place at 10:00 PM tomorrow.\n",
      "Mr. Shahzaib, you are invited to my place at 10:00 PM tomorrow.\n"
     ]
    }
   ],
   "source": [
    "guests = [\"Naveed\", \"Rija\", \"Amna\", \"Surman\", \"Sania\", \"Ather\", \"Ramisha\", \"Areeba\", \"Haiqa\", \"Sami\", \"Shahzaib\"]\n",
    "\n",
    "for guest in guests:\n",
    "    print(\"Mr. \" + guest +\", you are invited to my place at 10:00 PM tomorrow.\")"
   ]
  },
  {
   "cell_type": "markdown",
   "metadata": {},
   "source": [
    "<h3>Q 4 (b) : You just heard that one of your guests can’t make the dinner, so you need to send out a new set of invitations. You’ll have to think of someone else to invite.</h3>\n",
    "<h4>1 Start with your program from Q 4 (a). Add a print statement at the end of your program stating the name of the guest who can’t make it.</h4>\n",
    "<h4>2 Modify your list, replacing the name of the guest who can’t make it with the name of the new person you are inviting.</h4>\n",
    "<h4>3 Print a second set of invitation messages, one for each person who is still in your list.</h4>"
   ]
  },
  {
   "cell_type": "code",
   "execution_count": 68,
   "metadata": {},
   "outputs": [
    {
     "name": "stdout",
     "output_type": "stream",
     "text": [
      "Amna cant make it.\n",
      "Sami cant make it.\n",
      "Haiqa cant make it.\n"
     ]
    }
   ],
   "source": [
    "cantcome = [\"Amna\",\"Sami\",\"Haiqa\"]\n",
    "for cant in cantcome:\n",
    "    print(cant + \" cant make it.\")"
   ]
  },
  {
   "cell_type": "code",
   "execution_count": 69,
   "metadata": {},
   "outputs": [],
   "source": [
    "new = [\"Yousuf\", \"Muddabir\", \"Anas\"]\n",
    "\n",
    "for i,j in enumerate(cantcome):\n",
    "    if cantcome[i] in guests:\n",
    "        index = guests.index(cantcome[i])\n",
    "        guests[index] = new[i]"
   ]
  },
  {
   "cell_type": "code",
   "execution_count": 70,
   "metadata": {},
   "outputs": [
    {
     "name": "stdout",
     "output_type": "stream",
     "text": [
      "Mr. Naveed, you are invited to my place at 10:00 PM tomorrow.\n",
      "Mr. Rija, you are invited to my place at 10:00 PM tomorrow.\n",
      "Mr. Yousuf, you are invited to my place at 10:00 PM tomorrow.\n",
      "Mr. Surman, you are invited to my place at 10:00 PM tomorrow.\n",
      "Mr. Sania, you are invited to my place at 10:00 PM tomorrow.\n",
      "Mr. Ather, you are invited to my place at 10:00 PM tomorrow.\n",
      "Mr. Ramisha, you are invited to my place at 10:00 PM tomorrow.\n",
      "Mr. Areeba, you are invited to my place at 10:00 PM tomorrow.\n",
      "Mr. Anas, you are invited to my place at 10:00 PM tomorrow.\n",
      "Mr. Muddabir, you are invited to my place at 10:00 PM tomorrow.\n",
      "Mr. Shahzaib, you are invited to my place at 10:00 PM tomorrow.\n"
     ]
    }
   ],
   "source": [
    "for guest in guests:\n",
    "    print(\"Mr. \" + guest +\", you are invited to my place at 10:00 PM tomorrow.\")"
   ]
  },
  {
   "cell_type": "markdown",
   "metadata": {},
   "source": [
    "<h3>Q 4 (c) : You just found a bigger dinner table, so now more space is available. Think of three more guests to invite to dinner.</h3>\n",
    "<h4>1 Start with your program from Q 4 (a) and (b) Add a print statement to the end of your program informing people that  you found a bigger dinner table.</h4>\n",
    "<h4>2 Use insert() to add one new guest to the beginning of your list.</h4>\n",
    "<h4>3 Use insert() to add one new guest to the middle of your list.</h4>\n",
    "<h4>4 Use append() to add one new guest to the end of your list.</h4>\n",
    "<h4>5 Print a new set of invitation messages, one for each person in your list.</h4>"
   ]
  },
  {
   "cell_type": "code",
   "execution_count": 71,
   "metadata": {},
   "outputs": [
    {
     "name": "stdout",
     "output_type": "stream",
     "text": [
      "Dear Naveed, we have found a bigger dinner table where three more guests can be invited.\n",
      "Dear Rija, we have found a bigger dinner table where three more guests can be invited.\n",
      "Dear Yousuf, we have found a bigger dinner table where three more guests can be invited.\n",
      "Dear Surman, we have found a bigger dinner table where three more guests can be invited.\n",
      "Dear Sania, we have found a bigger dinner table where three more guests can be invited.\n",
      "Dear Ather, we have found a bigger dinner table where three more guests can be invited.\n",
      "Dear Ramisha, we have found a bigger dinner table where three more guests can be invited.\n",
      "Dear Areeba, we have found a bigger dinner table where three more guests can be invited.\n",
      "Dear Anas, we have found a bigger dinner table where three more guests can be invited.\n",
      "Dear Muddabir, we have found a bigger dinner table where three more guests can be invited.\n",
      "Dear Shahzaib, we have found a bigger dinner table where three more guests can be invited.\n"
     ]
    }
   ],
   "source": [
    "for guest in guests:\n",
    "    print(\"Dear \" + guest + \", we have found a bigger dinner table where three more guests can be invited.\")"
   ]
  },
  {
   "cell_type": "code",
   "execution_count": 72,
   "metadata": {},
   "outputs": [],
   "source": [
    "guests.insert(0,\"Salman\")"
   ]
  },
  {
   "cell_type": "code",
   "execution_count": 73,
   "metadata": {},
   "outputs": [],
   "source": [
    "guests.insert(round(len(guests)/2),\"Zain\")"
   ]
  },
  {
   "cell_type": "code",
   "execution_count": 74,
   "metadata": {},
   "outputs": [],
   "source": [
    "guests.append(\"Ali\")"
   ]
  },
  {
   "cell_type": "code",
   "execution_count": 75,
   "metadata": {},
   "outputs": [
    {
     "name": "stdout",
     "output_type": "stream",
     "text": [
      "Mr. Salman, you are invited to my place at 10:00 PM tomorrow.\n",
      "Mr. Naveed, you are invited to my place at 10:00 PM tomorrow.\n",
      "Mr. Rija, you are invited to my place at 10:00 PM tomorrow.\n",
      "Mr. Yousuf, you are invited to my place at 10:00 PM tomorrow.\n",
      "Mr. Surman, you are invited to my place at 10:00 PM tomorrow.\n",
      "Mr. Sania, you are invited to my place at 10:00 PM tomorrow.\n",
      "Mr. Zain, you are invited to my place at 10:00 PM tomorrow.\n",
      "Mr. Ather, you are invited to my place at 10:00 PM tomorrow.\n",
      "Mr. Ramisha, you are invited to my place at 10:00 PM tomorrow.\n",
      "Mr. Areeba, you are invited to my place at 10:00 PM tomorrow.\n",
      "Mr. Anas, you are invited to my place at 10:00 PM tomorrow.\n",
      "Mr. Muddabir, you are invited to my place at 10:00 PM tomorrow.\n",
      "Mr. Shahzaib, you are invited to my place at 10:00 PM tomorrow.\n",
      "Mr. Ali, you are invited to my place at 10:00 PM tomorrow.\n"
     ]
    }
   ],
   "source": [
    "for guest in guests:\n",
    "    print(\"Mr. \" + guest +\", you are invited to my place at 10:00 PM tomorrow.\")"
   ]
  },
  {
   "cell_type": "markdown",
   "metadata": {},
   "source": [
    "<h3> Q 5 : Here you have some data in variable below, your task is to make a list of specific word Surah then print the list and length of list</h3>\n"
   ]
  },
  {
   "cell_type": "code",
   "execution_count": 76,
   "metadata": {},
   "outputs": [],
   "source": [
    "data = \"Sura I Who believe in the Unseen, Sura Are steadfast in prayer, And spend Sura out of what We Have provided for them;\"\n"
   ]
  },
  {
   "cell_type": "code",
   "execution_count": 77,
   "metadata": {},
   "outputs": [
    {
     "name": "stdout",
     "output_type": "stream",
     "text": [
      "['Sura', 'I', 'Who', 'believe', 'in', 'the', 'Unseen,', 'Sura', 'Are', 'steadfast', 'in', 'prayer,', 'And', 'spend', 'Sura', 'out', 'of', 'what', 'We', 'Have', 'provided', 'for', 'them;']\n"
     ]
    }
   ],
   "source": [
    "key = \"Sura\"\n",
    "word_count = 0\n",
    "words = data.split(\" \")\n",
    "sura_list = []\n",
    "\n",
    "print(words)"
   ]
  },
  {
   "cell_type": "code",
   "execution_count": 78,
   "metadata": {},
   "outputs": [],
   "source": [
    "for word in words:\n",
    "    if word == key:\n",
    "        sura_list.append(key)\n",
    "        word_count += 1;"
   ]
  },
  {
   "cell_type": "code",
   "execution_count": 79,
   "metadata": {},
   "outputs": [
    {
     "name": "stdout",
     "output_type": "stream",
     "text": [
      "['Sura', 'Sura', 'Sura']\n"
     ]
    }
   ],
   "source": [
    "print(sura_list)"
   ]
  },
  {
   "cell_type": "code",
   "execution_count": 80,
   "metadata": {},
   "outputs": [
    {
     "name": "stdout",
     "output_type": "stream",
     "text": [
      "Number of occurance: 3\n"
     ]
    }
   ],
   "source": [
    "print(\"Number of occurance: \" + str(word_count))"
   ]
  }
 ],
 "metadata": {
  "kernelspec": {
   "display_name": "Python 3",
   "language": "python",
   "name": "python3"
  },
  "language_info": {
   "codemirror_mode": {
    "name": "ipython",
    "version": 3
   },
   "file_extension": ".py",
   "mimetype": "text/x-python",
   "name": "python",
   "nbconvert_exporter": "python",
   "pygments_lexer": "ipython3",
   "version": "3.6.4"
  }
 },
 "nbformat": 4,
 "nbformat_minor": 2
}
