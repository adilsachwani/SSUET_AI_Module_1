{
 "cells": [
  {
   "cell_type": "markdown",
   "metadata": {},
   "source": [
    "<b>function: verbing</b>\n",
    "<br>Given a string, if its length is at least 3,\n",
    "<br>add 'ing' to its end.\n",
    "<br>Unless it already ends in 'ing', in which case\n",
    "<br>add 'ly' instead.\n",
    "<br>If the string length is less than 3, leave it unchanged.\n",
    "<br>Return the resulting string."
   ]
  },
  {
   "cell_type": "code",
   "execution_count": 113,
   "metadata": {},
   "outputs": [],
   "source": [
    "def verbing(s):\n",
    "    if len(s)>=3:\n",
    "        if s[-3:]=='ing':\n",
    "            s+='ly'\n",
    "        else:\n",
    "            s+='ing'\n",
    "        \n",
    "    return s"
   ]
  },
  {
   "cell_type": "markdown",
   "metadata": {},
   "source": [
    "<b>function: not_bad</b>\n",
    "<br>Given a string, find the first appearance of the\n",
    "<br>substring 'not' and 'bad'. If the 'bad' follows\n",
    "<br>the 'not', replace the whole 'not'...'bad' substring\n",
    "<br>with 'good'.\n",
    "<br>Return the resulting string.\n",
    "<br>So 'This dinner is not that bad!' yields:\n",
    "<br>This dinner is good!"
   ]
  },
  {
   "cell_type": "code",
   "execution_count": 114,
   "metadata": {},
   "outputs": [],
   "source": [
    "def not_bad(s):\n",
    "    n = s.find(\"not\")\n",
    "    b = s.find(\"bad\")\n",
    "\n",
    "    if n>0 and b>0 and b>n:\n",
    "        s = s.replace(s[n:b+3],\"good\")\n",
    "        \n",
    "    return s\n",
    "        "
   ]
  },
  {
   "cell_type": "markdown",
   "metadata": {},
   "source": [
    "<b>Function: front_back</b>\n",
    "<br>Consider dividing a string into two halves.\n",
    "<br>If the length is even, the front and back halves are the same length.\n",
    "<br>If the length is odd, we'll say that the extra char goes in the front half.\n",
    "<br>e.g. 'abcde', the front half is 'abc', the back half 'de'.\n",
    "<br>Given 2 strings, a and b, return a string of the form\n",
    "<br>a-front + b-front + a-back + b-back"
   ]
  },
  {
   "cell_type": "code",
   "execution_count": 115,
   "metadata": {},
   "outputs": [],
   "source": [
    "def front_back(a, b):\n",
    "    la = len(a)\n",
    "    lb = len(b)\n",
    "    \n",
    "    if la%2 == 0:\n",
    "        a_front=a[0:int(la/2)]\n",
    "        a_back=a[int(la/2):]\n",
    "    else:\n",
    "        a_front=a[0:int(la/2)+1]\n",
    "        a_back=a[int(la/2)+1:]\n",
    "        \n",
    "    if lb%2 == 0:\n",
    "        b_front=b[0:int(lb/2)]\n",
    "        b_back=b[int(lb/2):]\n",
    "    else:\n",
    "        b_front=b[0:int(lb/2)+1]\n",
    "        b_back=b[int(lb/2)+1:]\n",
    "        \n",
    "    return a_front + b_front + a_back + b_back"
   ]
  },
  {
   "cell_type": "markdown",
   "metadata": {},
   "source": [
    "<b>function: test</b>\n",
    "<br>Simple provided test() function used in main() to print\n",
    "<br>what each function returns vs. what it's supposed to return."
   ]
  },
  {
   "cell_type": "code",
   "execution_count": 116,
   "metadata": {},
   "outputs": [],
   "source": [
    "def test(got, expected):\n",
    "    if got == expected:\n",
    "        prefix = ' OK '\n",
    "    else:\n",
    "        prefix = '  X '\n",
    "    print ('%s got: %s expected: %s' % (prefix, repr(got), repr(expected)))"
   ]
  },
  {
   "cell_type": "markdown",
   "metadata": {},
   "source": [
    "<b>function: main</b>\n",
    "<br>main() calls the above functions with interesting inputs,\n",
    "<br>using the above test() to check if the result is correct or not."
   ]
  },
  {
   "cell_type": "code",
   "execution_count": 117,
   "metadata": {},
   "outputs": [],
   "source": [
    "def main():\n",
    "    print ('verbing')\n",
    "    test(verbing('hail'), 'hailing')\n",
    "    test(verbing('swiming'), 'swimingly')\n",
    "    test(verbing('do'), 'do')\n",
    "\n",
    "    print()\n",
    "    print ('not_bad')\n",
    "    test(not_bad('This movie is not so bad'), 'This movie is good')\n",
    "    test(not_bad('This dinner is not that bad!'), 'This dinner is good!')\n",
    "    test(not_bad('This tea is not hot'), 'This tea is not hot')\n",
    "    test(not_bad(\"It's bad yet not\"), \"It's bad yet not\")\n",
    "\n",
    "    print()\n",
    "    print ('front_back')\n",
    "    test(front_back('abcd', 'xy'), 'abxcdy')\n",
    "    test(front_back('abcde', 'xyz'), 'abcxydez')\n",
    "    test(front_back('Kitten', 'Donut'), 'KitDontenut')"
   ]
  },
  {
   "cell_type": "markdown",
   "metadata": {},
   "source": [
    "standard boilerplate to call the main() function."
   ]
  },
  {
   "cell_type": "code",
   "execution_count": 119,
   "metadata": {},
   "outputs": [
    {
     "name": "stdout",
     "output_type": "stream",
     "text": [
      "verbing\n",
      " OK  got: 'hailing' expected: 'hailing'\n",
      " OK  got: 'swimingly' expected: 'swimingly'\n",
      " OK  got: 'do' expected: 'do'\n",
      "\n",
      "not_bad\n",
      " OK  got: 'This movie is good' expected: 'This movie is good'\n",
      " OK  got: 'This dinner is good!' expected: 'This dinner is good!'\n",
      " OK  got: 'This tea is not hot' expected: 'This tea is not hot'\n",
      " OK  got: \"It's bad yet not\" expected: \"It's bad yet not\"\n",
      "\n",
      "front_back\n",
      " OK  got: 'abxcdy' expected: 'abxcdy'\n",
      " OK  got: 'abcxydez' expected: 'abcxydez'\n",
      " OK  got: 'KitDontenut' expected: 'KitDontenut'\n"
     ]
    }
   ],
   "source": [
    "if __name__ == '__main__':\n",
    "  main()"
   ]
  }
 ],
 "metadata": {
  "kernelspec": {
   "display_name": "Python 3",
   "language": "python",
   "name": "python3"
  },
  "language_info": {
   "codemirror_mode": {
    "name": "ipython",
    "version": 3
   },
   "file_extension": ".py",
   "mimetype": "text/x-python",
   "name": "python",
   "nbconvert_exporter": "python",
   "pygments_lexer": "ipython3",
   "version": "3.6.4"
  }
 },
 "nbformat": 4,
 "nbformat_minor": 2
}
