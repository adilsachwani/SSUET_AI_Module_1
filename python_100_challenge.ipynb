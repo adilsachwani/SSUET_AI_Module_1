{
 "cells": [
  {
   "cell_type": "markdown",
   "metadata": {},
   "source": [
    "# Question no.1\n",
    "Write a program which will find all such numbers which are divisible by 7 but are not a multiple of 5,\n",
    "between 2000 and 3200 (both included).\n",
    "<br>The numbers obtained should be printed in a comma-separated sequence on a single line."
   ]
  },
  {
   "cell_type": "code",
   "execution_count": 53,
   "metadata": {},
   "outputs": [
    {
     "name": "stdout",
     "output_type": "stream",
     "text": [
      "2002,2009,2016,2023,2037,2044,2051,2058,2072,2079,2086,2093,2107,2114,2121,2128,2142,2149,2156,2163,2177,2184,2191,2198,2212,2219,2226,2233,2247,2254,2261,2268,2282,2289,2296,2303,2317,2324,2331,2338,2352,2359,2366,2373,2387,2394,2401,2408,2422,2429,2436,2443,2457,2464,2471,2478,2492,2499,2506,2513,2527,2534,2541,2548,2562,2569,2576,2583,2597,2604,2611,2618,2632,2639,2646,2653,2667,2674,2681,2688,2702,2709,2716,2723,2737,2744,2751,2758,2772,2779,2786,2793,2807,2814,2821,2828,2842,2849,2856,2863,2877,2884,2891,2898,2912,2919,2926,2933,2947,2954,2961,2968,2982,2989,2996,3003,3017,3024,3031,3038,3052,3059,3066,3073,3087,3094,3101,3108,3122,3129,3136,3143,3157,3164,3171,3178,3192,3199,"
     ]
    }
   ],
   "source": [
    "for n in range(2000,3201):\n",
    "    if n%7==0 and n%5!=0:\n",
    "        print(n,end=\",\")"
   ]
  },
  {
   "cell_type": "markdown",
   "metadata": {},
   "source": [
    "# Question no.2\n",
    "Write a program which can compute the factorial of a given numbers.\n",
    "<br>Suppose the following input is supplied to the program:\n",
    "<br>8\n",
    "<br>Then, the output should be:\n",
    "<br>40320"
   ]
  },
  {
   "cell_type": "code",
   "execution_count": 54,
   "metadata": {},
   "outputs": [
    {
     "name": "stdout",
     "output_type": "stream",
     "text": [
      "Enter number: 8\n",
      "Factorial of 8 is 40320\n"
     ]
    }
   ],
   "source": [
    "num = int(input(\"Enter number: \"))\n",
    "fact = 1\n",
    "for n in range(1,num+1):\n",
    "    fact = fact*n\n",
    "    \n",
    "print(\"Factorial of \" + str(num) + \" is \" + str(fact))"
   ]
  },
  {
   "cell_type": "markdown",
   "metadata": {},
   "source": [
    "# Question no.3\n",
    "With a given integral number n, write a program to generate a dictionary that contains (i, i*i) such that is an integral number between 1 and n (both included). and then the program should print the dictionary.\n",
    "<br>Suppose the following input is supplied to the program:\n",
    "<br>8\n",
    "<br>Then, the output should be:\n",
    "<br>{1: 1, 2: 4, 3: 9, 4: 16, 5: 25, 6: 36, 7: 49, 8: 64}"
   ]
  },
  {
   "cell_type": "code",
   "execution_count": 55,
   "metadata": {},
   "outputs": [
    {
     "name": "stdout",
     "output_type": "stream",
     "text": [
      "Enter number: 8\n",
      "{1: 1, 2: 4, 3: 9, 4: 16, 5: 25, 6: 36, 7: 49, 8: 64}\n"
     ]
    }
   ],
   "source": [
    "n = int(input(\"Enter number: \"))\n",
    "\n",
    "sq = {num:num*num for num in range(1,num+1)}\n",
    "\n",
    "print(sq)"
   ]
  },
  {
   "cell_type": "markdown",
   "metadata": {},
   "source": [
    "# Question no.4\n",
    "Write a program which accepts a sequence of comma-separated numbers from console and generate a list and a tuple which contains every number.\n",
    "<br>Suppose the following input is supplied to the program:\n",
    "<br>34,67,55,33,12,98\n",
    "<br>Then, the output should be:\n",
    "<br>['34', '67', '55', '33', '12', '98']\n",
    "<br>('34', '67', '55', '33', '12', '98')"
   ]
  },
  {
   "cell_type": "code",
   "execution_count": 56,
   "metadata": {},
   "outputs": [
    {
     "name": "stdout",
     "output_type": "stream",
     "text": [
      "Enter numbers: 34,67,55,33,12,98\n",
      "['34', '67', '55', '33', '12', '98']\n",
      "('34', '67', '55', '33', '12', '98')\n"
     ]
    }
   ],
   "source": [
    "num = input(\"Enter numbers: \")\n",
    "\n",
    "num_list = num.split(',')\n",
    "num_tuple = tuple(num_list)\n",
    "\n",
    "print(num_list)\n",
    "print(num_tuple)"
   ]
  },
  {
   "cell_type": "markdown",
   "metadata": {},
   "source": [
    "# Question no.5\n",
    "Define a class which has at least two methods:\n",
    "<br>getString: to get a string from console input\n",
    "<br>printString: to print the string in upper case.\n",
    "<br>Also please include simple test function to test the class methods."
   ]
  },
  {
   "cell_type": "code",
   "execution_count": 57,
   "metadata": {},
   "outputs": [],
   "source": [
    "class StringDemo:\n",
    "    def __init__(self):\n",
    "        self.text = \"\"\n",
    "    def getString(self):\n",
    "        self.text = input(\"Enter string: \")\n",
    "    def printString(self):\n",
    "        print(self.text.upper())"
   ]
  },
  {
   "cell_type": "code",
   "execution_count": 58,
   "metadata": {},
   "outputs": [
    {
     "name": "stdout",
     "output_type": "stream",
     "text": [
      "Enter string: adil aslam\n",
      "ADIL ASLAM\n"
     ]
    }
   ],
   "source": [
    "obj = StringDemo()\n",
    "obj.getString()\n",
    "obj.printString()"
   ]
  },
  {
   "cell_type": "markdown",
   "metadata": {},
   "source": [
    "# Question no.6\n",
    "Write a program that calculates and prints the value according to the given formula:\n",
    "<br>Q = Square root of {(2 x C x D)/H}\n",
    "<br>Following are the fixed values of C and H:\n",
    "<br>C is 50, H is 30\n",
    "<br>D is the variable whose values should be input to your program in a comma-separated sequence.\n",
    "<br>Let us assume the following comma separated input sequence is given to the program:\n",
    "<br>100,150,180\n",
    "<br>The output of the program should be:\n",
    "<br>18,22,24"
   ]
  },
  {
   "cell_type": "code",
   "execution_count": 1,
   "metadata": {},
   "outputs": [
    {
     "name": "stdout",
     "output_type": "stream",
     "text": [
      "Enter D: 100,150,180\n",
      "18,22,24,"
     ]
    }
   ],
   "source": [
    "import math as mt\n",
    "\n",
    "C = 50\n",
    "H = 30\n",
    "\n",
    "d = input(\"Enter D: \")\n",
    "d_list = d.split(',')\n",
    "\n",
    "for D in d_list:\n",
    "    print(round(mt.sqrt((2*C*int(D))/H)), end=\",\")"
   ]
  },
  {
   "cell_type": "markdown",
   "metadata": {},
   "source": [
    "# Question no.7\n",
    "Write a program which takes 2 digits, X,Y as input & generates a 2-D array. The element value in the i-th row and j-th column of the array should be i*j.\n",
    "<br>Note: i=0,1.., X-1; j=0,1,¡=Y-1.\n",
    "<br>Suppose the following inputs are given to the program:\n",
    "<br>3,5\n",
    "<br>Then, the output of the program should be:\n",
    "<br>[[0, 0, 0, 0, 0], [0, 1, 2, 3, 4], [0, 2, 4, 6, 8]]"
   ]
  },
  {
   "cell_type": "code",
   "execution_count": 21,
   "metadata": {},
   "outputs": [
    {
     "name": "stdout",
     "output_type": "stream",
     "text": [
      "x,y: 3,5\n"
     ]
    },
    {
     "data": {
      "text/plain": [
       "[[0, 0, 0, 0, 0], [0, 1, 2, 3, 4], [0, 2, 4, 6, 8]]"
      ]
     },
     "execution_count": 21,
     "metadata": {},
     "output_type": "execute_result"
    }
   ],
   "source": [
    "val = input(\"x,y: \")\n",
    "dim = [int(v) for v in val.split(',')]\n",
    "\n",
    "[[i*j for j in range(0,dim[1])] for i in range(0,dim[0])]"
   ]
  },
  {
   "cell_type": "markdown",
   "metadata": {},
   "source": [
    "# Question no.8\n",
    "Write a program that accepts a comma separated sequence of words as input and prints the words in a comma-separated sequence after sorting them alphabetically.\n",
    "<br>Suppose the following input is supplied to the program:\n",
    "<br>without,hello,bag,world\n",
    "<br>Then, the output should be:\n",
    "<br>bag,hello,without,world"
   ]
  },
  {
   "cell_type": "code",
   "execution_count": 2,
   "metadata": {},
   "outputs": [
    {
     "name": "stdout",
     "output_type": "stream",
     "text": [
      "Enter words: without,hello,bag,world\n",
      "['bag', 'hello', 'without', 'world']\n"
     ]
    }
   ],
   "source": [
    "words = input(\"Enter words: \")\n",
    "words_list = words.split(',');\n",
    "words_list.sort()\n",
    "print(words_list)"
   ]
  },
  {
   "cell_type": "markdown",
   "metadata": {},
   "source": [
    "# Question no.9\n",
    "Write a program that accepts sequence of lines as input and prints the lines after making all characters in the sentence capitalized.\n",
    "Suppose the following input is supplied to the program:\n",
    "<br>Hello world\n",
    "<br>Practice makes perfect\n",
    "<br>Then, the output should be:\n",
    "<br>HELLO WORLD\n",
    "<br>PRACTICE MAKES PERFECT"
   ]
  },
  {
   "cell_type": "code",
   "execution_count": 32,
   "metadata": {},
   "outputs": [
    {
     "name": "stdout",
     "output_type": "stream",
     "text": [
      "Enter Senetence('x' to exit):Hello world\n",
      "Enter Senetence('x' to exit):Practice makes perfect \n",
      "Enter Senetence('x' to exit):x\n",
      "HELLO WORLD\n",
      "PRACTICE MAKES PERFECT \n"
     ]
    }
   ],
   "source": [
    "check = True\n",
    "sentences = []\n",
    "\n",
    "while(check):\n",
    "    x=input(\"Enter Senetence('x' to exit):\")\n",
    "    \n",
    "    if x=='x':\n",
    "        break\n",
    "    \n",
    "    sentences.append(x.upper())\n",
    "    \n",
    "for sentence in sentences:\n",
    "    print(sentence)"
   ]
  },
  {
   "cell_type": "markdown",
   "metadata": {},
   "source": [
    "# Question no.10\n",
    "Write a program that accepts a sequence of whitespace separated words as input and prints the words after removing all duplicate words and sorting them alphanumerically.\n",
    "<br>Suppose the following input is supplied to the program:\n",
    "<br>hello world and practice makes perfect and hello world again\n",
    "<br>Then, the output should be:\n",
    "<br>again and hello makes perfect practice world"
   ]
  },
  {
   "cell_type": "code",
   "execution_count": 52,
   "metadata": {},
   "outputs": [
    {
     "name": "stdout",
     "output_type": "stream",
     "text": [
      "Enter text: hello world and practice makes perfect and hello world again\n",
      "again and hello makes perfect practice world "
     ]
    }
   ],
   "source": [
    "text = input(\"Enter text: \")\n",
    "text_list = text.split(' ')\n",
    "\n",
    "new_text_list = sorted(set(text_list))\n",
    "\n",
    "for t in new_text_list:\n",
    "    print(t,end=\" \")"
   ]
  },
  {
   "cell_type": "markdown",
   "metadata": {},
   "source": [
    "# Question no.11\n",
    "Write a program which accepts a sequence of comma separated 4 digit binary numbers as its input and then check whether they are divisible by 5 or not. The numbers that are divisible by 5 are to be printed in a comma separated sequence.\n",
    "<br>Example:\n",
    "<br>0100,0011,1010,1001\n",
    "<br>Then the output should be:\n",
    "<br>1010"
   ]
  },
  {
   "cell_type": "code",
   "execution_count": 5,
   "metadata": {},
   "outputs": [
    {
     "name": "stdout",
     "output_type": "stream",
     "text": [
      "Enter 4 digits: 0100,0011,1010,1001\n",
      "0100,1010,"
     ]
    }
   ],
   "source": [
    "n = input(\"Enter 4 digits: \")\n",
    "nums = n.split(',')\n",
    "\n",
    "for num in nums:\n",
    "    if int(num)%5==0:\n",
    "        print(num, end=\",\")"
   ]
  },
  {
   "cell_type": "markdown",
   "metadata": {},
   "source": [
    "# Question no.12\n",
    "Write a program, which will find all such numbers between 1000 and 3000 (both included) such that each digit of the number is an even number.\n",
    "<br>The numbers obtained should be printed in a comma-separated sequence on a single line."
   ]
  },
  {
   "cell_type": "code",
   "execution_count": 8,
   "metadata": {},
   "outputs": [
    {
     "name": "stdout",
     "output_type": "stream",
     "text": [
      "2000,2002,2004,2006,2008,2020,2022,2024,2026,2028,2040,2042,2044,2046,2048,2060,2062,2064,2066,2068,2080,2082,2084,2086,2088,2200,2202,2204,2206,2208,2220,2222,2224,2226,2228,2240,2242,2244,2246,2248,2260,2262,2264,2266,2268,2280,2282,2284,2286,2288,2400,2402,2404,2406,2408,2420,2422,2424,2426,2428,2440,2442,2444,2446,2448,2460,2462,2464,2466,2468,2480,2482,2484,2486,2488,2600,2602,2604,2606,2608,2620,2622,2624,2626,2628,2640,2642,2644,2646,2648,2660,2662,2664,2666,2668,2680,2682,2684,2686,2688,2800,2802,2804,2806,2808,2820,2822,2824,2826,2828,2840,2842,2844,2846,2848,2860,2862,2864,2866,2868,2880,2882,2884,2886,2888,"
     ]
    }
   ],
   "source": [
    "for num in range(1000,3001):\n",
    "    n = str(num)\n",
    "    if(int(n[0])%2==0 and int(n[1])%2==0 and int(n[2])%2==0 and int(n[3])%2==0):\n",
    "        print(n, end=\",\")"
   ]
  },
  {
   "cell_type": "markdown",
   "metadata": {},
   "source": [
    "# Question no.13\n",
    "Write a program that accepts a sentence and calculate the number of letters and digits.\n",
    "<br>Suppose the following input is supplied to the program:\n",
    "<br>hello world! 123\n",
    "<br>Then, the output should be:\n",
    "<br>LETTERS 10\n",
    "<br>DIGITS 3"
   ]
  },
  {
   "cell_type": "code",
   "execution_count": 6,
   "metadata": {},
   "outputs": [
    {
     "name": "stdout",
     "output_type": "stream",
     "text": [
      "Enter sentence: hello world! 123\n",
      "LETTERS 10\n",
      "DIGITS 3\n"
     ]
    }
   ],
   "source": [
    "text = input(\"Enter sentence: \")\n",
    "letter = 0\n",
    "digit = 0\n",
    "\n",
    "for t in text:\n",
    "    if t.isdigit():\n",
    "        digit+=1\n",
    "    elif t.isalpha():\n",
    "        letter+=1\n",
    "        \n",
    "print(\"LETTERS \" + str(letter) + \"\\n\" + \"DIGITS \" + str(digit))"
   ]
  },
  {
   "cell_type": "markdown",
   "metadata": {},
   "source": [
    "# Question no.14\n",
    "Write a program that accepts a sentence and calculate the number of upper case letters and lower case letters.\n",
    "<br>Suppose the following input is supplied to the program:\n",
    "<br>Hello world!\n",
    "<br>Then, the output should be:\n",
    "<br>UPPER CASE 1\n",
    "<br>LOWER CASE 9"
   ]
  },
  {
   "cell_type": "code",
   "execution_count": 1,
   "metadata": {},
   "outputs": [
    {
     "name": "stdout",
     "output_type": "stream",
     "text": [
      "Enter sentence: Hello world!\n",
      "UPPER CASE 1\n",
      "LOWER CASE 9\n"
     ]
    }
   ],
   "source": [
    "text = input(\"Enter sentence: \")\n",
    "upper = 0\n",
    "lower = 0\n",
    "\n",
    "for t in text:\n",
    "    if t.isupper():\n",
    "        upper+=1\n",
    "    elif t.islower():\n",
    "        lower+=1\n",
    "        \n",
    "print(\"UPPER CASE \" + str(upper) + \"\\n\" + \"LOWER CASE \" + str(lower))"
   ]
  },
  {
   "cell_type": "markdown",
   "metadata": {},
   "source": [
    "# Question no.15\n",
    "Write a program that computes the value of a+aa+aaa+aaaa with a given digit as the value of a.\n",
    "<br>Suppose the following input is supplied to the program:\n",
    "<br>9\n",
    "<br>Then, the output should be:\n",
    "<br>11106"
   ]
  },
  {
   "cell_type": "code",
   "execution_count": 10,
   "metadata": {},
   "outputs": [
    {
     "name": "stdout",
     "output_type": "stream",
     "text": [
      "Enter number: 9\n",
      "11106\n"
     ]
    }
   ],
   "source": [
    "a = input(\"Enter number: \")\n",
    "n = int(a)+int(a+a)+int(a+a+a)+int(a+a+a+a)\n",
    "print(n)"
   ]
  },
  {
   "cell_type": "markdown",
   "metadata": {},
   "source": [
    "# Question no.16\n",
    "Use a list comprehension to add each odd number in a list. The list is input by a sequence of comma-separated numbers.\n",
    "<br>Suppose the following input is supplied to the program:\n",
    "<br>1,2,3,4,5,6,7,8,9\n",
    "<br>Then, the output should be:\n",
    "<br>1,3,5,7,9"
   ]
  },
  {
   "cell_type": "code",
   "execution_count": 20,
   "metadata": {},
   "outputs": [
    {
     "name": "stdout",
     "output_type": "stream",
     "text": [
      "Enter list: 1,2,3,4,5,6,7,8,9\n",
      "['1', '3', '5', '7', '9']\n"
     ]
    }
   ],
   "source": [
    "nums = input(\"Enter list: \")\n",
    "odds = [n for n in nums.split(',') if int(n)%2!=0]\n",
    "print(odds)"
   ]
  },
  {
   "cell_type": "markdown",
   "metadata": {},
   "source": [
    "# Question no.17\n",
    "Write a program that computes the net amount of a bank account based a transaction log from console input. The <br>transaction <br>Log format is shown as following:\n",
    "<br>D 100\n",
    "<br>W 200\n",
    "<br>D means deposit while W means withdrawal.\n",
    "<br>Suppose the following input is supplied to the program:\n",
    "<br>D 300\n",
    "<br>D 300\n",
    "<br>W 200\n",
    "<br>D 100\n",
    "<br>Then, the output should be:\n",
    "<br>500"
   ]
  },
  {
   "cell_type": "code",
   "execution_count": 3,
   "metadata": {},
   "outputs": [
    {
     "name": "stdout",
     "output_type": "stream",
     "text": [
      "D 300\n",
      "D 300\n",
      "W 200\n",
      "D 100\n",
      "\n",
      "500\n"
     ]
    }
   ],
   "source": [
    "net_amount = 0\n",
    "\n",
    "while True:\n",
    "    amount = input()\n",
    "    detail = amount.split(' ')\n",
    "    \n",
    "    if not amount:\n",
    "        break\n",
    "    \n",
    "    if detail[0] == 'D':\n",
    "        net_amount+=int(detail[1])\n",
    "    elif detail[0] == 'W':\n",
    "        net_amount-=int(detail[1])\n",
    "        \n",
    "print(net_amount)"
   ]
  },
  {
   "cell_type": "markdown",
   "metadata": {},
   "source": [
    "# Question no.18\n",
    "A website requires the users to input username and password to register. Write a program to check the validity of password input by users.\n",
    "<br>Following are the criteria for checking the password:\n",
    "<br>1. At least 1 letter between [a-z]\n",
    "<br>2. At least 1 number between [0-9]\n",
    "<br>3. At least 1 letter between [A-Z]\n",
    "<br>4. At least 1 character from [$#@]\n",
    "<br>5. Minimum length of transaction password: 6\n",
    "<br>6. Maximum length of transaction password: 12\n",
    "<br>Your program should accept a sequence of comma separated passwords and will check them according to the above criteria. Passwords that match the criteria are to be printed, each separated by a comma.\n",
    "<br>If the following passwords are given as input to the program:\n",
    "<br>ABd1234@1,a F1#,2w3E*,2We3345\n",
    "<br>Then, the output of the program should be:\n",
    "<br>ABd1234@1"
   ]
  },
  {
   "cell_type": "markdown",
   "metadata": {},
   "source": [
    "# Question no.25\n",
    "Define a class, which have a class parameter and have a same instance parameter."
   ]
  },
  {
   "cell_type": "code",
   "execution_count": 7,
   "metadata": {},
   "outputs": [],
   "source": [
    "class Cricketer:\n",
    "    name = None\n",
    "    runs = 0\n",
    "    \n",
    "    def __init__(self, name, runs):\n",
    "        self.name = name\n",
    "        self.runs = runs"
   ]
  },
  {
   "cell_type": "code",
   "execution_count": 13,
   "metadata": {},
   "outputs": [
    {
     "name": "stdout",
     "output_type": "stream",
     "text": [
      "Name: Misbah-ul-Haq\n",
      "Runs: 2310\n"
     ]
    }
   ],
   "source": [
    "misbah = Cricketer(\"Misbah-ul-Haq\",2310)\n",
    "\n",
    "print(\"Name: \" + misbah.name)\n",
    "print(\"Runs: \" + str(misbah.runs))"
   ]
  },
  {
   "cell_type": "markdown",
   "metadata": {},
   "source": [
    "# Question no. 26\n",
    "Define a function which can compute the sum of two numbers."
   ]
  },
  {
   "cell_type": "code",
   "execution_count": 14,
   "metadata": {},
   "outputs": [],
   "source": [
    "def add(a, b):\n",
    "    return a+b"
   ]
  },
  {
   "cell_type": "code",
   "execution_count": 15,
   "metadata": {},
   "outputs": [
    {
     "name": "stdout",
     "output_type": "stream",
     "text": [
      "11\n"
     ]
    }
   ],
   "source": [
    "print(add(4,7))"
   ]
  },
  {
   "cell_type": "markdown",
   "metadata": {},
   "source": [
    "# Question no.27\n",
    "Define a function that can convert a integer into a string and print it in console."
   ]
  },
  {
   "cell_type": "code",
   "execution_count": 16,
   "metadata": {},
   "outputs": [],
   "source": [
    "def convertString(i):\n",
    "    print(str(i))"
   ]
  },
  {
   "cell_type": "code",
   "execution_count": 17,
   "metadata": {},
   "outputs": [
    {
     "name": "stdout",
     "output_type": "stream",
     "text": [
      "23\n"
     ]
    }
   ],
   "source": [
    "convertString(23)"
   ]
  },
  {
   "cell_type": "markdown",
   "metadata": {},
   "source": [
    "# Question no.28\n",
    "Define a function that can receive two integral numbers in string form and compute their sum and then print it in console."
   ]
  },
  {
   "cell_type": "code",
   "execution_count": 7,
   "metadata": {},
   "outputs": [],
   "source": [
    "def add(a,b):\n",
    "    print(int(a)+int(b))"
   ]
  },
  {
   "cell_type": "code",
   "execution_count": 8,
   "metadata": {},
   "outputs": [
    {
     "name": "stdout",
     "output_type": "stream",
     "text": [
      "8\n"
     ]
    }
   ],
   "source": [
    "add(3,5)"
   ]
  },
  {
   "cell_type": "markdown",
   "metadata": {},
   "source": [
    "# Question no.29\n",
    "Define a function that can accept two strings as input and concatenate them and then print it in console."
   ]
  },
  {
   "cell_type": "code",
   "execution_count": 9,
   "metadata": {},
   "outputs": [],
   "source": [
    "def concatenate(a,b):\n",
    "    print(a + \" \" + b)"
   ]
  },
  {
   "cell_type": "code",
   "execution_count": 10,
   "metadata": {},
   "outputs": [
    {
     "name": "stdout",
     "output_type": "stream",
     "text": [
      "Adil Aslam\n"
     ]
    }
   ],
   "source": [
    "concatenate(\"Adil\",\"Aslam\")"
   ]
  },
  {
   "cell_type": "markdown",
   "metadata": {},
   "source": [
    "# Question no.30\n",
    "Define a function that can accept two strings as input and print the string with maximum length in console. If two strings have the same length, then the function should print all strings line by line."
   ]
  },
  {
   "cell_type": "code",
   "execution_count": 11,
   "metadata": {},
   "outputs": [],
   "source": [
    "def compareString(a,b):\n",
    "    if len(a)>len(b):\n",
    "        print(a)\n",
    "    elif  len(b)>len(a):\n",
    "        print(b)\n",
    "    elif len(a)==len(b):\n",
    "        print(a + \"\\n\" + b)"
   ]
  },
  {
   "cell_type": "code",
   "execution_count": 15,
   "metadata": {},
   "outputs": [
    {
     "name": "stdout",
     "output_type": "stream",
     "text": [
      "aslam\n",
      "sachwani\n",
      "adil\n",
      "amna\n"
     ]
    }
   ],
   "source": [
    "compareString(\"adil\",\"aslam\")\n",
    "compareString(\"aslam\",\"sachwani\")\n",
    "compareString(\"adil\",\"amna\")"
   ]
  },
  {
   "cell_type": "markdown",
   "metadata": {},
   "source": [
    "# Question no.31\n",
    "Define a function that can accept an integer number as input and print the \"It is an even number\" if the number is even, otherwise print \"It is an odd number\"."
   ]
  },
  {
   "cell_type": "code",
   "execution_count": 18,
   "metadata": {},
   "outputs": [],
   "source": [
    "def oddEven(num):\n",
    "    if num%2 == 0:\n",
    "        print(\"It is an even number\")\n",
    "    else:\n",
    "        print(\"It is an odd number\")\n",
    "    "
   ]
  },
  {
   "cell_type": "code",
   "execution_count": 19,
   "metadata": {},
   "outputs": [
    {
     "name": "stdout",
     "output_type": "stream",
     "text": [
      "It is an odd number\n",
      "It is an even number\n"
     ]
    }
   ],
   "source": [
    "oddEven(35)\n",
    "oddEven(82)"
   ]
  },
  {
   "cell_type": "markdown",
   "metadata": {},
   "source": [
    "# Question no.32\n",
    "Define a function which can print a dictionary where the keys are numbers between 1 and 3 (both included) and the values are square of keys."
   ]
  },
  {
   "cell_type": "code",
   "execution_count": 35,
   "metadata": {},
   "outputs": [],
   "source": [
    "def squareDict():\n",
    "    dict = {n:n**2 for n in range(1,4)}\n",
    "    print(dict)"
   ]
  },
  {
   "cell_type": "code",
   "execution_count": 36,
   "metadata": {},
   "outputs": [
    {
     "name": "stdout",
     "output_type": "stream",
     "text": [
      "{1: 1, 2: 4, 3: 9}\n"
     ]
    }
   ],
   "source": [
    "squareDict()"
   ]
  },
  {
   "cell_type": "markdown",
   "metadata": {},
   "source": [
    "# Question no.33\n",
    "Define a function which can print a dictionary where the keys are numbers between 1 and 20 (both included) and the values are square of keys."
   ]
  },
  {
   "cell_type": "code",
   "execution_count": 37,
   "metadata": {},
   "outputs": [],
   "source": [
    "def squareDict():\n",
    "    dict = {n:n**2 for n in range(1,21)}\n",
    "    print(dict)"
   ]
  },
  {
   "cell_type": "code",
   "execution_count": 38,
   "metadata": {},
   "outputs": [
    {
     "name": "stdout",
     "output_type": "stream",
     "text": [
      "{1: 1, 2: 4, 3: 9, 4: 16, 5: 25, 6: 36, 7: 49, 8: 64, 9: 81, 10: 100, 11: 121, 12: 144, 13: 169, 14: 196, 15: 225, 16: 256, 17: 289, 18: 324, 19: 361, 20: 400}\n"
     ]
    }
   ],
   "source": [
    "squareDict()"
   ]
  },
  {
   "cell_type": "markdown",
   "metadata": {},
   "source": [
    "# Question no.34\n",
    "Define a function which can generate a dictionary where the keys are numbers between 1 and 20 (both included) and the values are square of keys. The function should just print the values only."
   ]
  },
  {
   "cell_type": "code",
   "execution_count": 47,
   "metadata": {},
   "outputs": [],
   "source": [
    "def squareDict():\n",
    "    dict = {n:n**2 for n in range(1,21)}\n",
    "    for val in dict.values():\n",
    "        print(val,end=\",\")"
   ]
  },
  {
   "cell_type": "code",
   "execution_count": 48,
   "metadata": {},
   "outputs": [
    {
     "name": "stdout",
     "output_type": "stream",
     "text": [
      "1,4,9,16,25,36,49,64,81,100,121,144,169,196,225,256,289,324,361,400,"
     ]
    }
   ],
   "source": [
    "squareDict()"
   ]
  },
  {
   "cell_type": "markdown",
   "metadata": {},
   "source": [
    "# Question no.35\n",
    "Define a function which can generate a dictionary where the keys are numbers between 1 and 20 (both included) and the values are square of keys. The function should just print the keys only."
   ]
  },
  {
   "cell_type": "code",
   "execution_count": 49,
   "metadata": {},
   "outputs": [],
   "source": [
    "def squareDict():\n",
    "    dict = {n:n**2 for n in range(1,21)}\n",
    "    for key in dict.keys():\n",
    "        print(key,end=\",\")"
   ]
  },
  {
   "cell_type": "code",
   "execution_count": 50,
   "metadata": {},
   "outputs": [
    {
     "name": "stdout",
     "output_type": "stream",
     "text": [
      "1,2,3,4,5,6,7,8,9,10,11,12,13,14,15,16,17,18,19,20,"
     ]
    }
   ],
   "source": [
    "squareDict()"
   ]
  },
  {
   "cell_type": "markdown",
   "metadata": {},
   "source": [
    "# Question no.36\n",
    "Define a function which can generate and print a list where the values are square of numbers between 1 and 20 (both included)."
   ]
  },
  {
   "cell_type": "code",
   "execution_count": 66,
   "metadata": {},
   "outputs": [],
   "source": [
    "def squareList():\n",
    "    my_list = [n**2 for n in range(1,21)]\n",
    "    print(my_list)"
   ]
  },
  {
   "cell_type": "code",
   "execution_count": 67,
   "metadata": {},
   "outputs": [
    {
     "name": "stdout",
     "output_type": "stream",
     "text": [
      "[1, 4, 9, 16, 25, 36, 49, 64, 81, 100, 121, 144, 169, 196, 225, 256, 289, 324, 361, 400]\n"
     ]
    }
   ],
   "source": [
    "squareList()"
   ]
  },
  {
   "cell_type": "markdown",
   "metadata": {},
   "source": [
    "# Question no.37\n",
    "Define a function which can generate a list where the values are square of numbers between 1 and 20 (both included). Then the function needs to print the first 5 elements in the list."
   ]
  },
  {
   "cell_type": "code",
   "execution_count": 68,
   "metadata": {},
   "outputs": [],
   "source": [
    "def squareList():\n",
    "    my_list = [n**2 for n in range(1,21)]\n",
    "    print(my_list[:5])"
   ]
  },
  {
   "cell_type": "code",
   "execution_count": 69,
   "metadata": {},
   "outputs": [
    {
     "name": "stdout",
     "output_type": "stream",
     "text": [
      "[1, 4, 9, 16, 25]\n"
     ]
    }
   ],
   "source": [
    "squareList()"
   ]
  },
  {
   "cell_type": "markdown",
   "metadata": {},
   "source": [
    "# Question no.38\n",
    "Define a function which can generate a list where the values are square of numbers between 1 and 20 (both included). Then the function needs to print the last 5 elements in the list."
   ]
  },
  {
   "cell_type": "code",
   "execution_count": 70,
   "metadata": {},
   "outputs": [],
   "source": [
    "def squareList():\n",
    "    my_list = [n**2 for n in range(1,21)]\n",
    "    print(my_list[-5:])"
   ]
  },
  {
   "cell_type": "code",
   "execution_count": 71,
   "metadata": {},
   "outputs": [
    {
     "name": "stdout",
     "output_type": "stream",
     "text": [
      "[256, 289, 324, 361, 400]\n"
     ]
    }
   ],
   "source": [
    "squareList()"
   ]
  },
  {
   "cell_type": "markdown",
   "metadata": {},
   "source": [
    "# Question no.39\n",
    "Define a function which can generate a list where the values are square of numbers between 1 and 20 (both included). Then the function needs to print all values except the first 5 elements in the list."
   ]
  },
  {
   "cell_type": "code",
   "execution_count": 72,
   "metadata": {},
   "outputs": [],
   "source": [
    "def squareList():\n",
    "    my_list = [n**2 for n in range(1,21)]\n",
    "    print(my_list[5:])"
   ]
  },
  {
   "cell_type": "code",
   "execution_count": 73,
   "metadata": {},
   "outputs": [
    {
     "name": "stdout",
     "output_type": "stream",
     "text": [
      "[36, 49, 64, 81, 100, 121, 144, 169, 196, 225, 256, 289, 324, 361, 400]\n"
     ]
    }
   ],
   "source": [
    "squareList()"
   ]
  },
  {
   "cell_type": "markdown",
   "metadata": {},
   "source": [
    "# Question no.40\n",
    "Define a function which can generate and print a tuple where the value are square of numbers between 1 and 20 (both included)."
   ]
  },
  {
   "cell_type": "code",
   "execution_count": 83,
   "metadata": {},
   "outputs": [],
   "source": [
    "def squareTuple():\n",
    "    my_list = [n**2 for n in range(1,21)]\n",
    "    my_tuple = tuple(my_list)\n",
    "    print(my_tuple)"
   ]
  },
  {
   "cell_type": "code",
   "execution_count": 84,
   "metadata": {},
   "outputs": [
    {
     "name": "stdout",
     "output_type": "stream",
     "text": [
      "(1, 4, 9, 16, 25, 36, 49, 64, 81, 100, 121, 144, 169, 196, 225, 256, 289, 324, 361, 400)\n"
     ]
    }
   ],
   "source": [
    "squareTuple()"
   ]
  },
  {
   "cell_type": "markdown",
   "metadata": {},
   "source": [
    "# Question no.41\n",
    "With a given tuple (1,2,3,4,5,6,7,8,9,10), write a program to print the first half values in one line and the last half values in one line. "
   ]
  },
  {
   "cell_type": "code",
   "execution_count": 2,
   "metadata": {},
   "outputs": [
    {
     "name": "stdout",
     "output_type": "stream",
     "text": [
      "(1, 2, 3, 4, 5)\n",
      "(6, 7, 8, 9, 10)\n"
     ]
    }
   ],
   "source": [
    "my_tuple = (1,2,3,4,5,6,7,8,9,10)\n",
    "print(my_tuple[:5])\n",
    "print(my_tuple[5:])"
   ]
  },
  {
   "cell_type": "markdown",
   "metadata": {},
   "source": [
    "# Question no.42\n",
    "Write a program to generate and print another tuple whose values are even numbers in the given tuple (1,2,3,4,5,6,7,8,9,10)."
   ]
  },
  {
   "cell_type": "code",
   "execution_count": 3,
   "metadata": {},
   "outputs": [
    {
     "name": "stdout",
     "output_type": "stream",
     "text": [
      "(2, 4, 6, 8, 10)\n"
     ]
    }
   ],
   "source": [
    "my_tuple = (1,2,3,4,5,6,7,8,9,10)\n",
    "even_list = []\n",
    "for t in my_tuple:\n",
    "    if t%2==0:\n",
    "        even_list.append(t)\n",
    "\n",
    "even_tuple = tuple(even_list)\n",
    "print(even_tuple)\n",
    "        "
   ]
  },
  {
   "cell_type": "markdown",
   "metadata": {},
   "source": [
    "# Question no.43\n",
    "Write a program which accepts a string as input to print \"Yes\" if the string is \"yes\" or \"YES\" or \"Yes\", otherwise print \"No\". "
   ]
  },
  {
   "cell_type": "code",
   "execution_count": 5,
   "metadata": {},
   "outputs": [
    {
     "name": "stdout",
     "output_type": "stream",
     "text": [
      "Enter string: YES\n",
      "Yes\n"
     ]
    }
   ],
   "source": [
    "s = input(\"Enter string: \")\n",
    "\n",
    "if s==\"yes\" or s==\"YES\" or s==\"Yes\":\n",
    "    print(\"Yes\")\n",
    "else:\n",
    "    print(\"No\")"
   ]
  }
 ],
 "metadata": {
  "kernelspec": {
   "display_name": "Python 3",
   "language": "python",
   "name": "python3"
  },
  "language_info": {
   "codemirror_mode": {
    "name": "ipython",
    "version": 3
   },
   "file_extension": ".py",
   "mimetype": "text/x-python",
   "name": "python",
   "nbconvert_exporter": "python",
   "pygments_lexer": "ipython3",
   "version": "3.6.4"
  }
 },
 "nbformat": 4,
 "nbformat_minor": 2
}
