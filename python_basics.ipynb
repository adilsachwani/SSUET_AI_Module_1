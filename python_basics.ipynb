{
 "cells": [
  {
   "cell_type": "markdown",
   "metadata": {},
   "source": [
    "# List Methods\n",
    "<b>c = my_list.count('i')</b>\n",
    "<br>returns the number of occurrences of an element in a list.\n",
    "\n",
    "<b>i = my_list.index(\"adil\")</b>\n",
    "<br>returns the index of the element in the list.\n",
    "\n",
    "<b>v = my_list.pop(3)</b>\n",
    "<br>returns the element present at the given index.\n",
    "\n",
    "<b>new_list = my_list.copy()</b>\n",
    "<br>returns a shallow copy of the list.\n",
    "\n",
    "<b>my_list.sort()</b>\n",
    "<br>sorts the elements of a given list in a specific order.\n",
    "\n",
    "<b>my_list.reverse()</b>\n",
    "<br>reverses the elements of a given list\n",
    "\n",
    "<b>my_list.clear()</b>\n",
    "<br>removes all items from the list.\n",
    "\n",
    "<b>my_list.append(\"adil\")</b>\n",
    "<br>adds a single item to the existing list.\n",
    "\n",
    "<b>my_list.insert(3,\"adil\")</b>\n",
    "<br>inserts the element to the list at the given index.\n",
    "\n",
    "<b>my_list.extend(my_list_2)</b>\n",
    "<br>extends the list by adding all items of a list (passed as an argument) to the end.\n",
    "\n",
    "<b>my_list.remove(\"adil\")</b>\n",
    "<br>removes the first occurance of a given element from the list."
   ]
  },
  {
   "cell_type": "markdown",
   "metadata": {},
   "source": [
    "# String Methods\n",
    "<b>my_list = s.split(',')</b>\n",
    "<br>returns a list of strings after breaking the given string by the specified separator\n",
    "\n",
    "<b>s = s.upper()</b>\n",
    "<br>converts all lowercase characters in a string into uppercase characters and returns it.\n",
    "\n",
    "<b>s = s.lower()</b>\n",
    "<br>converts all uppercase characters in a string into lowercase characters and returns it.\n",
    "\n",
    "<b>i = s.find(\"adil\")</b>\n",
    "<br>returns the lowest index of the substring (if found). If not found, it returns -1.\n",
    "\n",
    "<b>c = s.count('adil')</b>\n",
    "<br>returns the number of occurrences of an substring in a string."
   ]
  },
  {
   "cell_type": "markdown",
   "metadata": {},
   "source": [
    "# Other Useful Methods\n",
    "<b>my_list = sorted(my_list)</b>\n",
    "<br>returns sorted list from a given iterable\n",
    "\n",
    "<b>c = len(my_list)</b>\n",
    "<br>returns the number of elements in the list."
   ]
  }
 ],
 "metadata": {
  "kernelspec": {
   "display_name": "Python 3",
   "language": "python",
   "name": "python3"
  },
  "language_info": {
   "codemirror_mode": {
    "name": "ipython",
    "version": 3
   },
   "file_extension": ".py",
   "mimetype": "text/x-python",
   "name": "python",
   "nbconvert_exporter": "python",
   "pygments_lexer": "ipython3",
   "version": "3.6.4"
  }
 },
 "nbformat": 4,
 "nbformat_minor": 2
}
